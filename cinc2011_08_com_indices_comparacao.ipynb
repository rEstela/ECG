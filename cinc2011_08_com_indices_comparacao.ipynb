{
 "cells": [
  {
   "cell_type": "code",
   "execution_count": 1,
   "id": "13882c14",
   "metadata": {},
   "outputs": [],
   "source": [
    "# Importando bibliotecas\n",
    "\n",
    "import os\n",
    "import wfdb\n",
    "import numpy as np\n",
    "import pandas as pd\n",
    "from scipy.signal import find_peaks\n",
    "from scipy.stats import skew, kurtosis\n",
    "\n",
    "import matplotlib.pyplot as plt\n",
    "import seaborn as sns\n",
    "\n",
    "from sklearn.model_selection import train_test_split\n",
    "from sklearn.ensemble import RandomForestClassifier\n",
    "from sklearn.metrics import roc_curve, auc, confusion_matrix, cohen_kappa_score"
   ]
  },
  {
   "cell_type": "code",
   "execution_count": 2,
   "id": "8bbf2cbb",
   "metadata": {},
   "outputs": [],
   "source": [
    "# Definindo funções\n",
    "\n",
    "# --------------------------------------------\n",
    "## Plotar sinal de ECG com os picos detectados\n",
    "\n",
    "def plot_detected_peaks(t, ecg_signal, detected_peaks):\n",
    "    # Plotar os sinais original e filtrado com os picos QRS detectados\n",
    "    plt.figure(figsize=(12, 8))\n",
    "    plt.plot(t, ecg_signal, label='Sinal original', alpha=0.7)\n",
    "    plt.scatter(t[detected_peaks], ecg_signal[detected_peaks], color='red', marker='o', label='Picos QRS')\n",
    "    plt.title('Sinal de ECG com Picos R Detectados')\n",
    "    plt.vlines(t[detected_peaks], *plt.ylim(), label=\"Picos\", color=\".2\", alpha=0.3, ls=\"--\")\n",
    "    plt.xlabel('Tempo (s)')\n",
    "    plt.ylabel('Amplitude')\n",
    "    plt.legend()\n",
    "    plt.show()\n",
    "\n",
    "# --------------------------------------------\n",
    "## Indices de qualidade\n",
    "\n",
    "def compute_iSQI(detected_peaks, total_samples):\n",
    "    return len(detected_peaks) / total_samples * 100\n",
    "\n",
    "def compute_fSQI(ecg_signal, sampling_rate=1000):\n",
    "    fn = 0.5 * sampling_rate  # Frequência de Nyquist\n",
    "    power_5_20Hz = np.sum(np.square(ecg_signal[(5 <= fn) & (fn <= 20)]))\n",
    "    power_0_fnHz = np.sum(np.square(ecg_signal[fn <= 0.5 * sampling_rate]))\n",
    "    return power_5_20Hz / power_0_fnHz\n",
    "\n",
    "def compute_sSQI(ecg_signal):\n",
    "    return skew(ecg_signal)\n",
    "\n",
    "def compute_kSQI(ecg_signal):\n",
    "    return kurtosis(ecg_signal)\n",
    "\n",
    "def compute_pSQI(ecg_signal, epsilon=1.0):\n",
    "    dxm_dt = np.gradient(ecg_signal)\n",
    "    flat_line_percentage = np.sum(np.abs(dxm_dt) < epsilon) / len(ecg_signal) * 100\n",
    "    return flat_line_percentage\n",
    "\n",
    "def get_quality_indexes(peaks, t, ecg_signal):\n",
    "    # Calcular índices de qualidade\n",
    "    iSQI_value = compute_iSQI(peaks, len(t))\n",
    "    fSQI_value = compute_fSQI(ecg_signal)\n",
    "    sSQI_value = compute_sSQI(ecg_signal)\n",
    "    kSQI_value = compute_kSQI(ecg_signal)\n",
    "    pSQI_value = compute_pSQI(ecg_signal)\n",
    "    return [iSQI_value, fSQI_value, sSQI_value, kSQI_value, pSQI_value]"
   ]
  },
  {
   "cell_type": "code",
   "execution_count": 3,
   "id": "a8489e63",
   "metadata": {},
   "outputs": [],
   "source": [
    "# Generate binary classification analysis\n",
    "def classification_metrics_binary(y_true, y_pred, model, fold):\n",
    "    tn, fp, fn, tp = confusion_matrix(y_true, y_pred).ravel()\n",
    "    perc_tn, perc_fp, perc_fn, perc_tp = list(map(lambda x:x/len(y_true)*100, [tn, fp, fn, tp]))\n",
    "    sensitivity = tp/(tp+fn)\n",
    "    false_positive_rate = fp/(tn+fp)\n",
    "    precision = tp/(tp+fp)\n",
    "    specificity = tn/(tn+fp)\n",
    "    accuracy = (tp+tn)/(tp+fp+tn+fn)\n",
    "    f1_score = 2*precision*sensitivity/(sensitivity+precision)\n",
    "    fpr, tpr, thresholds = roc_curve(y_true, y_pred)\n",
    "    auc_value = auc(fpr, tpr)\n",
    "    kappa = cohen_kappa_score(y_true, y_pred)\n",
    "    \n",
    "    return {\"model\":model, \"fold\": fold,\n",
    "            \"tn\":tn, \"fp\":fp, \"fn\":fn, \"tp\":tp, \"perc_tn\":perc_tn, \"perc_fp\":perc_fp, \n",
    "            \"perc_fn\":perc_fn, \"perc_tp\":perc_tp, \"sensitivity\":sensitivity, \n",
    "            \"tpr\":sensitivity, \"recall\":sensitivity, \"fpr\":false_positive_rate, \n",
    "            \"precision\":precision, \"ppv\":precision, \"specificity\":specificity, \n",
    "            \"tnr\":specificity,\"f1_score\":f1_score, \"auc\":auc_value, \"kappa\":kappa, \n",
    "            \"accuracy\":accuracy}\n",
    "\n",
    "# Plot Confusion Matrix\n",
    "def plot_confusion(y_true, y_pred):\n",
    "    # Generate the confusion matrix\n",
    "    cm = confusion_matrix(y_true, y_pred)\n",
    "    class_name = ['Ruim', 'Bom']\n",
    "    cm = pd.DataFrame(cm, index=class_name, columns=class_name)\n",
    "\n",
    "    # Plot the confusion matrix\n",
    "    plt.figure(figsize=(8, 6))\n",
    "    sns.heatmap(cm, annot=True, fmt='g', cmap='Blues', cbar=False)\n",
    "    plt.title('Confusion Matrix')\n",
    "    plt.xlabel('Predicted Labels')\n",
    "    plt.ylabel('True Labels')\n",
    "\n",
    "    # Salva a figura como .eps\n",
    "    plt.savefig('confusion_matrix_FAxNORMAL_preprocessed.eps', format='eps')\n",
    "\n",
    "    # Salva a figura como .png com 300 DPI\n",
    "    plt.savefig('confusion_matrix_FAxNORMAL_preprocessed.png', format='png', dpi=300)\n",
    "\n",
    "    plt.show()"
   ]
  },
  {
   "cell_type": "code",
   "execution_count": 4,
   "id": "497600c8",
   "metadata": {},
   "outputs": [],
   "source": [
    "# VISUALIZANDO RESULTADOS\n",
    "\n",
    "def show_results(idx):\n",
    "    paciente = df_ecg_cinc2011[idx]['Paciente']\n",
    "    classe = df_ecg_cinc2011[idx]['Classe']\n",
    "    features = df_ecg_cinc2011[idx]['Features']\n",
    "    ecg = df_ecg_cinc2011[idx]['Sinais']\n",
    "    picos = df_ecg_cinc2011[idx]['Picos']\n",
    "\n",
    "    print(f'FILENAME: {paciente}')\n",
    "    print(f'CLASSE: {classe}')\n",
    "    print(f'FEATURES: {features}')\n",
    "\n",
    "    plot_detected_peaks(t, ecg, picos)"
   ]
  },
  {
   "cell_type": "code",
   "execution_count": 5,
   "id": "44381e94",
   "metadata": {},
   "outputs": [],
   "source": [
    "# Gerando o dataset\n",
    "def get_dataset(diretorio):\n",
    "    # Lista para armazenar os sinais, nomes de arquivo e classes\n",
    "    df_ecg_cinc2011 = []\n",
    "\n",
    "    # Lê os nomes dos pacientes da classe 'positiva' a partir do arquivo .txt\n",
    "    with open(diretorio + 'RECORDS-acceptable', 'r') as file_positivo:\n",
    "        boa_qualidade = [line.strip() for line in file_positivo]\n",
    "\n",
    "    # Lê os nomes dos pacientes da classe 'negativa' a partir do arquivo .txt\n",
    "    with open(diretorio + 'RECORDS-unacceptable', 'r') as file_negativo:\n",
    "        ma_qualidade = [line.strip() for line in file_negativo]\n",
    "\n",
    "    # Itera sobre todos os arquivos no diretório\n",
    "    for arquivo in os.listdir(diretorio):\n",
    "        if arquivo.endswith('.hea'):\n",
    "            # Extrai o nome do arquivo sem a extensão\n",
    "            nome_base = os.path.splitext(arquivo)[0]\n",
    "\n",
    "            # Carrega as informações do cabeçalho (.hea)\n",
    "            record = wfdb.rdheader(os.path.join(diretorio, nome_base))\n",
    "\n",
    "            # Carrega os dados do sinal (.dat)\n",
    "            signals, _ = wfdb.rdsamp(os.path.join(diretorio, nome_base))\n",
    "\n",
    "            # Como vou usar apenas a DII, seleciono apenas essa derivação\n",
    "            ecg_signal = signals[:,1]\n",
    "\n",
    "            # Determina a classe do paciente\n",
    "            if nome_base in boa_qualidade:\n",
    "                classe = 1 # bom\n",
    "            elif nome_base in ma_qualidade:\n",
    "                classe = 0 # ruim\n",
    "            else:\n",
    "                classe = np.nan\n",
    "\n",
    "            # Identifica os picos nos sinais de ECG\n",
    "            sampling_rate = record.fs\n",
    "            duration = 10 # segundos\n",
    "            t = np.arange(0, duration, 1/sampling_rate)\n",
    "            peaks, _ = find_peaks(ecg_signal, height = 0.2, distance = sampling_rate/2)\n",
    "\n",
    "            # Gera os indices de qualidade\n",
    "            indices = get_quality_indexes(peaks, t, ecg_signal)\n",
    "\n",
    "            #plot_detected_peaks(t, ecg_signal, peaks) # Deixar comentado essa linha para não gerar os plots\n",
    "\n",
    "            # Adiciona os sinais, informações adicionais e a classe à lista\n",
    "            df_ecg_cinc2011.append({'Paciente': nome_base, 'Sinais': ecg_signal, 'Frequencia de Amostragem': record.fs, \n",
    "                                    'Classe': classe, 'Picos': peaks, 'Features': indices})\n",
    "    return df_ecg_cinc2011"
   ]
  },
  {
   "cell_type": "code",
   "execution_count": 6,
   "id": "a317ca9e",
   "metadata": {},
   "outputs": [],
   "source": [
    "# Diretório que contém os arquivos .hea e .dat\n",
    "diretorio = 'C:/Users/estela.ribeiro/JupyterNotebooks/ECGcodes/set-a/'"
   ]
  },
  {
   "cell_type": "code",
   "execution_count": 7,
   "id": "e7e9df7b",
   "metadata": {},
   "outputs": [
    {
     "name": "stderr",
     "output_type": "stream",
     "text": [
      "C:\\Users\\ESTELA~1.RIB\\AppData\\Local\\Temp/ipykernel_15460/2564668317.py:28: RuntimeWarning: invalid value encountered in double_scalars\n",
      "  return power_5_20Hz / power_0_fnHz\n"
     ]
    }
   ],
   "source": [
    "df_ecg_cinc2011 = get_dataset(diretorio)"
   ]
  },
  {
   "cell_type": "code",
   "execution_count": 8,
   "id": "8bbaf044",
   "metadata": {},
   "outputs": [
    {
     "data": {
      "text/html": [
       "<div>\n",
       "<style scoped>\n",
       "    .dataframe tbody tr th:only-of-type {\n",
       "        vertical-align: middle;\n",
       "    }\n",
       "\n",
       "    .dataframe tbody tr th {\n",
       "        vertical-align: top;\n",
       "    }\n",
       "\n",
       "    .dataframe thead th {\n",
       "        text-align: right;\n",
       "    }\n",
       "</style>\n",
       "<table border=\"1\" class=\"dataframe\">\n",
       "  <thead>\n",
       "    <tr style=\"text-align: right;\">\n",
       "      <th></th>\n",
       "      <th>Features</th>\n",
       "      <th>Classe</th>\n",
       "    </tr>\n",
       "  </thead>\n",
       "  <tbody>\n",
       "    <tr>\n",
       "      <th>0</th>\n",
       "      <td>[0.0, 0.0, 0.0, -3.0, 100.0]</td>\n",
       "      <td>0.0</td>\n",
       "    </tr>\n",
       "    <tr>\n",
       "      <th>1</th>\n",
       "      <td>[0.2, 0.0, -0.46612093186253545, 19.3928051755...</td>\n",
       "      <td>1.0</td>\n",
       "    </tr>\n",
       "    <tr>\n",
       "      <th>2</th>\n",
       "      <td>[0.16, 0.0, -2.1746740930593185, 9.44945315641...</td>\n",
       "      <td>0.0</td>\n",
       "    </tr>\n",
       "    <tr>\n",
       "      <th>3</th>\n",
       "      <td>[0.3, 0.0, -0.6684783077838481, 2.535005784455...</td>\n",
       "      <td>0.0</td>\n",
       "    </tr>\n",
       "    <tr>\n",
       "      <th>4</th>\n",
       "      <td>[0.2, 0.0, 4.419841197862508, 25.0690525928515...</td>\n",
       "      <td>1.0</td>\n",
       "    </tr>\n",
       "  </tbody>\n",
       "</table>\n",
       "</div>"
      ],
      "text/plain": [
       "                                            Features  Classe\n",
       "0                       [0.0, 0.0, 0.0, -3.0, 100.0]     0.0\n",
       "1  [0.2, 0.0, -0.46612093186253545, 19.3928051755...     1.0\n",
       "2  [0.16, 0.0, -2.1746740930593185, 9.44945315641...     0.0\n",
       "3  [0.3, 0.0, -0.6684783077838481, 2.535005784455...     0.0\n",
       "4  [0.2, 0.0, 4.419841197862508, 25.0690525928515...     1.0"
      ]
     },
     "execution_count": 8,
     "metadata": {},
     "output_type": "execute_result"
    }
   ],
   "source": [
    "df_ecg_cinc2011 = pd.DataFrame(df_ecg_cinc2011)\n",
    "\n",
    "# Seleciona apenas as colunas relevantes (Features e Classe)\n",
    "df_ecg = df_ecg_cinc2011[['Features', 'Classe']]\n",
    "\n",
    "df_ecg.head()"
   ]
  },
  {
   "cell_type": "code",
   "execution_count": 9,
   "id": "9a6d781d",
   "metadata": {},
   "outputs": [
    {
     "data": {
      "text/html": [
       "<div>\n",
       "<style scoped>\n",
       "    .dataframe tbody tr th:only-of-type {\n",
       "        vertical-align: middle;\n",
       "    }\n",
       "\n",
       "    .dataframe tbody tr th {\n",
       "        vertical-align: top;\n",
       "    }\n",
       "\n",
       "    .dataframe thead th {\n",
       "        text-align: right;\n",
       "    }\n",
       "</style>\n",
       "<table border=\"1\" class=\"dataframe\">\n",
       "  <thead>\n",
       "    <tr style=\"text-align: right;\">\n",
       "      <th></th>\n",
       "      <th>iSQI</th>\n",
       "      <th>fSQI</th>\n",
       "      <th>sSQI</th>\n",
       "      <th>kSQI</th>\n",
       "      <th>pSQI</th>\n",
       "      <th>Classe</th>\n",
       "    </tr>\n",
       "  </thead>\n",
       "  <tbody>\n",
       "    <tr>\n",
       "      <th>0</th>\n",
       "      <td>0.00</td>\n",
       "      <td>0.0</td>\n",
       "      <td>0.000000</td>\n",
       "      <td>-3.000000</td>\n",
       "      <td>100.0</td>\n",
       "      <td>0.0</td>\n",
       "    </tr>\n",
       "    <tr>\n",
       "      <th>1</th>\n",
       "      <td>0.20</td>\n",
       "      <td>0.0</td>\n",
       "      <td>-0.466121</td>\n",
       "      <td>19.392805</td>\n",
       "      <td>100.0</td>\n",
       "      <td>1.0</td>\n",
       "    </tr>\n",
       "    <tr>\n",
       "      <th>2</th>\n",
       "      <td>0.16</td>\n",
       "      <td>0.0</td>\n",
       "      <td>-2.174674</td>\n",
       "      <td>9.449453</td>\n",
       "      <td>100.0</td>\n",
       "      <td>0.0</td>\n",
       "    </tr>\n",
       "    <tr>\n",
       "      <th>3</th>\n",
       "      <td>0.30</td>\n",
       "      <td>0.0</td>\n",
       "      <td>-0.668478</td>\n",
       "      <td>2.535006</td>\n",
       "      <td>100.0</td>\n",
       "      <td>0.0</td>\n",
       "    </tr>\n",
       "    <tr>\n",
       "      <th>4</th>\n",
       "      <td>0.20</td>\n",
       "      <td>0.0</td>\n",
       "      <td>4.419841</td>\n",
       "      <td>25.069053</td>\n",
       "      <td>100.0</td>\n",
       "      <td>1.0</td>\n",
       "    </tr>\n",
       "  </tbody>\n",
       "</table>\n",
       "</div>"
      ],
      "text/plain": [
       "   iSQI  fSQI      sSQI       kSQI   pSQI  Classe\n",
       "0  0.00   0.0  0.000000  -3.000000  100.0     0.0\n",
       "1  0.20   0.0 -0.466121  19.392805  100.0     1.0\n",
       "2  0.16   0.0 -2.174674   9.449453  100.0     0.0\n",
       "3  0.30   0.0 -0.668478   2.535006  100.0     0.0\n",
       "4  0.20   0.0  4.419841  25.069053  100.0     1.0"
      ]
     },
     "execution_count": 9,
     "metadata": {},
     "output_type": "execute_result"
    }
   ],
   "source": [
    "df = pd.DataFrame(df_ecg['Features'].tolist(), columns=['iSQI', 'fSQI', 'sSQI', 'kSQI', 'pSQI'])\n",
    "df['Classe'] = df_ecg['Classe']\n",
    "\n",
    "df.head()"
   ]
  },
  {
   "cell_type": "code",
   "execution_count": 10,
   "id": "c6cb5a56",
   "metadata": {},
   "outputs": [
    {
     "name": "stdout",
     "output_type": "stream",
     "text": [
      "NaN? : iSQI       0\n",
      "fSQI      12\n",
      "sSQI       0\n",
      "kSQI       0\n",
      "pSQI       0\n",
      "Classe     2\n",
      "dtype: int64\n"
     ]
    }
   ],
   "source": [
    "print(f'NaN? : {pd.isna(df).sum()}')"
   ]
  },
  {
   "cell_type": "code",
   "execution_count": 11,
   "id": "8132bb70",
   "metadata": {},
   "outputs": [],
   "source": [
    "df = df.dropna()"
   ]
  },
  {
   "cell_type": "code",
   "execution_count": 12,
   "id": "507ee164",
   "metadata": {},
   "outputs": [
    {
     "name": "stdout",
     "output_type": "stream",
     "text": [
      "NaN? : iSQI      0\n",
      "fSQI      0\n",
      "sSQI      0\n",
      "kSQI      0\n",
      "pSQI      0\n",
      "Classe    0\n",
      "dtype: int64\n"
     ]
    }
   ],
   "source": [
    "print(f'NaN? : {pd.isna(df).sum()}')"
   ]
  },
  {
   "cell_type": "code",
   "execution_count": 13,
   "id": "992dafb0",
   "metadata": {},
   "outputs": [],
   "source": [
    "# Separa as Features e a Classe\n",
    "X = df[['iSQI', 'fSQI', 'sSQI', 'kSQI', 'pSQI']]\n",
    "y = df['Classe']"
   ]
  },
  {
   "cell_type": "code",
   "execution_count": 14,
   "id": "54be0b5a",
   "metadata": {},
   "outputs": [],
   "source": [
    "from sklearn.model_selection import GroupKFold\n",
    "from sklearn.model_selection import KFold\n",
    "\n",
    "from sklearn.linear_model import LogisticRegression\n",
    "from sklearn.ensemble import RandomForestClassifier\n",
    "import xgboost\n",
    "\n",
    "RANDOM_SEED = 32\n",
    "\n",
    "# Método random forest estoura a memória. Utilizar o HPC para rodar.\n",
    "methods = {'xgboost':xgboost.XGBClassifier(seed=RANDOM_SEED), \n",
    "           'logistic_regression':LogisticRegression(random_state=RANDOM_SEED),\n",
    "           'random_forest':RandomForestClassifier(random_state=RANDOM_SEED)\n",
    "           }\n"
   ]
  },
  {
   "cell_type": "code",
   "execution_count": 17,
   "id": "2c03b5dc",
   "metadata": {},
   "outputs": [
    {
     "name": "stdout",
     "output_type": "stream",
     "text": [
      "xgboost (788, 5) (788,) (198, 5) (198,)\n",
      "xgboost (789, 5) (789,) (197, 5) (197,)\n",
      "xgboost (789, 5) (789,) (197, 5) (197,)\n",
      "xgboost (789, 5) (789,) (197, 5) (197,)\n",
      "xgboost (789, 5) (789,) (197, 5) (197,)\n",
      "logistic_regression (788, 5) (788,) (198, 5) (198,)\n",
      "logistic_regression (789, 5) (789,) (197, 5) (197,)\n",
      "logistic_regression (789, 5) (789,) (197, 5) (197,)\n",
      "logistic_regression (789, 5) (789,) (197, 5) (197,)\n",
      "logistic_regression (789, 5) (789,) (197, 5) (197,)\n",
      "random_forest (788, 5) (788,) (198, 5) (198,)\n",
      "random_forest (789, 5) (789,) (197, 5) (197,)\n",
      "random_forest (789, 5) (789,) (197, 5) (197,)\n",
      "random_forest (789, 5) (789,) (197, 5) (197,)\n",
      "random_forest (789, 5) (789,) (197, 5) (197,)\n"
     ]
    }
   ],
   "source": [
    "resultados = []\n",
    "\n",
    "for method in methods.keys():\n",
    "    m = methods[method]\n",
    "    \n",
    "    # Configuração do k-fold\n",
    "    n_splits = 5\n",
    "    kfold = KFold(n_splits=n_splits, shuffle=False)\n",
    "    \n",
    "    # Loop sobre os k-folds\n",
    "    for idx, (train_idx, test_idx) in enumerate(kfold.split(X)):\n",
    "        \n",
    "        X_train, X_test = X.iloc[train_idx], X.iloc[test_idx]\n",
    "        y_train, y_test = y.iloc[train_idx], y.iloc[test_idx]\n",
    "        \n",
    "        print(method, X_train.shape, y_train.shape, X_test.shape, y_test.shape)\n",
    "        model = m.fit(X_train, y_train)\n",
    "        \n",
    "        # Faz predições no conjunto de teste\n",
    "        y_pred = model.predict(X_test)\n",
    "        \n",
    "        # Avalia o desempenho do modelo e armazena os resultados\n",
    "        results_fold = classification_metrics_binary(y_test, y_pred, method, idx)\n",
    "        resultados.append(results_fold)\n",
    "    "
   ]
  },
  {
   "cell_type": "code",
   "execution_count": 20,
   "id": "57cc5de3",
   "metadata": {},
   "outputs": [
    {
     "name": "stdout",
     "output_type": "stream",
     "text": [
      "{'model': 'xgboost', 'fold': 0, 'tn': 23, 'fp': 39, 'fn': 10, 'tp': 126, 'perc_tn': 11.616161616161616, 'perc_fp': 19.696969696969695, 'perc_fn': 5.05050505050505, 'perc_tp': 63.63636363636363, 'sensitivity': 0.9264705882352942, 'tpr': 0.9264705882352942, 'recall': 0.9264705882352942, 'fpr': 0.6290322580645161, 'precision': 0.7636363636363637, 'ppv': 0.7636363636363637, 'specificity': 0.3709677419354839, 'tnr': 0.3709677419354839, 'f1_score': 0.8372093023255814, 'auc': 0.648719165085389, 'kappa': 0.34080717488789236, 'accuracy': 0.7525252525252525} \n",
      "\n",
      "{'model': 'xgboost', 'fold': 1, 'tn': 19, 'fp': 26, 'fn': 5, 'tp': 147, 'perc_tn': 9.644670050761421, 'perc_fp': 13.19796954314721, 'perc_fn': 2.5380710659898478, 'perc_tp': 74.61928934010153, 'sensitivity': 0.9671052631578947, 'tpr': 0.9671052631578947, 'recall': 0.9671052631578947, 'fpr': 0.5777777777777777, 'precision': 0.8497109826589595, 'ppv': 0.8497109826589595, 'specificity': 0.4222222222222222, 'tnr': 0.4222222222222222, 'f1_score': 0.9046153846153846, 'auc': 0.6946637426900585, 'kappa': 0.465844485261961, 'accuracy': 0.8426395939086294} \n",
      "\n",
      "{'model': 'xgboost', 'fold': 2, 'tn': 18, 'fp': 17, 'fn': 8, 'tp': 154, 'perc_tn': 9.137055837563452, 'perc_fp': 8.629441624365482, 'perc_fn': 4.060913705583756, 'perc_tp': 78.1725888324873, 'sensitivity': 0.9506172839506173, 'tpr': 0.9506172839506173, 'recall': 0.9506172839506173, 'fpr': 0.4857142857142857, 'precision': 0.9005847953216374, 'ppv': 0.9005847953216374, 'specificity': 0.5142857142857142, 'tnr': 0.5142857142857142, 'f1_score': 0.9249249249249248, 'auc': 0.7324514991181658, 'kappa': 0.5170148082769441, 'accuracy': 0.8730964467005076} \n",
      "\n",
      "{'model': 'xgboost', 'fold': 3, 'tn': 24, 'fp': 16, 'fn': 8, 'tp': 149, 'perc_tn': 12.18274111675127, 'perc_fp': 8.121827411167512, 'perc_fn': 4.060913705583756, 'perc_tp': 75.63451776649747, 'sensitivity': 0.9490445859872612, 'tpr': 0.9490445859872612, 'recall': 0.9490445859872612, 'fpr': 0.4, 'precision': 0.9030303030303031, 'ppv': 0.9030303030303031, 'specificity': 0.6, 'tnr': 0.6, 'f1_score': 0.9254658385093169, 'auc': 0.7745222929936306, 'kappa': 0.5932553337921542, 'accuracy': 0.8781725888324873} \n",
      "\n",
      "{'model': 'xgboost', 'fold': 4, 'tn': 14, 'fp': 17, 'fn': 13, 'tp': 153, 'perc_tn': 7.1065989847715745, 'perc_fp': 8.629441624365482, 'perc_fn': 6.598984771573605, 'perc_tp': 77.66497461928934, 'sensitivity': 0.9216867469879518, 'tpr': 0.9216867469879518, 'recall': 0.9216867469879518, 'fpr': 0.5483870967741935, 'precision': 0.9, 'ppv': 0.9, 'specificity': 0.45161290322580644, 'tnr': 0.45161290322580644, 'f1_score': 0.9107142857142857, 'auc': 0.6866498251068791, 'kappa': 0.39397046759639054, 'accuracy': 0.8477157360406091} \n",
      "\n",
      "{'model': 'logistic_regression', 'fold': 0, 'tn': 2, 'fp': 60, 'fn': 0, 'tp': 136, 'perc_tn': 1.0101010101010102, 'perc_fp': 30.303030303030305, 'perc_fn': 0.0, 'perc_tp': 68.68686868686868, 'sensitivity': 1.0, 'tpr': 1.0, 'recall': 1.0, 'fpr': 0.967741935483871, 'precision': 0.6938775510204082, 'ppv': 0.6938775510204082, 'specificity': 0.03225806451612903, 'tnr': 0.03225806451612903, 'f1_score': 0.819277108433735, 'auc': 0.5161290322580645, 'kappa': 0.04378622021893119, 'accuracy': 0.696969696969697} \n",
      "\n",
      "{'model': 'logistic_regression', 'fold': 1, 'tn': 14, 'fp': 31, 'fn': 0, 'tp': 152, 'perc_tn': 7.1065989847715745, 'perc_fp': 15.736040609137056, 'perc_fn': 0.0, 'perc_tp': 77.15736040609137, 'sensitivity': 1.0, 'tpr': 1.0, 'recall': 1.0, 'fpr': 0.6888888888888889, 'precision': 0.8306010928961749, 'ppv': 0.8306010928961749, 'specificity': 0.3111111111111111, 'tnr': 0.3111111111111111, 'f1_score': 0.9074626865671642, 'auc': 0.6555555555555556, 'kappa': 0.41069188458940453, 'accuracy': 0.8426395939086294} \n",
      "\n",
      "{'model': 'logistic_regression', 'fold': 2, 'tn': 15, 'fp': 20, 'fn': 0, 'tp': 162, 'perc_tn': 7.614213197969544, 'perc_fp': 10.152284263959391, 'perc_fn': 0.0, 'perc_tp': 82.23350253807106, 'sensitivity': 1.0, 'tpr': 1.0, 'recall': 1.0, 'fpr': 0.5714285714285714, 'precision': 0.8901098901098901, 'ppv': 0.8901098901098901, 'specificity': 0.42857142857142855, 'tnr': 0.42857142857142855, 'f1_score': 0.9418604651162791, 'auc': 0.7142857142857143, 'kappa': 0.5522727272727272, 'accuracy': 0.8984771573604061} \n",
      "\n",
      "{'model': 'logistic_regression', 'fold': 3, 'tn': 14, 'fp': 26, 'fn': 2, 'tp': 155, 'perc_tn': 7.1065989847715745, 'perc_fp': 13.19796954314721, 'perc_fn': 1.015228426395939, 'perc_tp': 78.68020304568529, 'sensitivity': 0.9872611464968153, 'tpr': 0.9872611464968153, 'recall': 0.9872611464968153, 'fpr': 0.65, 'precision': 0.856353591160221, 'ppv': 0.856353591160221, 'specificity': 0.35, 'tnr': 0.35, 'f1_score': 0.9171597633136094, 'auc': 0.6686305732484077, 'kappa': 0.4343724364232977, 'accuracy': 0.8578680203045685} \n",
      "\n",
      "{'model': 'logistic_regression', 'fold': 4, 'tn': 13, 'fp': 18, 'fn': 7, 'tp': 159, 'perc_tn': 6.598984771573605, 'perc_fp': 9.137055837563452, 'perc_fn': 3.5532994923857872, 'perc_tp': 80.71065989847716, 'sensitivity': 0.9578313253012049, 'tpr': 0.9578313253012049, 'recall': 0.9578313253012049, 'fpr': 0.5806451612903226, 'precision': 0.8983050847457628, 'ppv': 0.8983050847457628, 'specificity': 0.41935483870967744, 'tnr': 0.41935483870967744, 'f1_score': 0.9271137026239066, 'auc': 0.6885930820054411, 'kappa': 0.4407857386170092, 'accuracy': 0.8730964467005076} \n",
      "\n",
      "{'model': 'random_forest', 'fold': 0, 'tn': 21, 'fp': 41, 'fn': 4, 'tp': 132, 'perc_tn': 10.606060606060606, 'perc_fp': 20.707070707070706, 'perc_fn': 2.0202020202020203, 'perc_tp': 66.66666666666666, 'sensitivity': 0.9705882352941176, 'tpr': 0.9705882352941176, 'recall': 0.9705882352941176, 'fpr': 0.6612903225806451, 'precision': 0.7630057803468208, 'ppv': 0.7630057803468208, 'specificity': 0.3387096774193548, 'tnr': 0.3387096774193548, 'f1_score': 0.8543689320388349, 'auc': 0.6546489563567364, 'kappa': 0.3692481948180659, 'accuracy': 0.7727272727272727} \n",
      "\n",
      "{'model': 'random_forest', 'fold': 1, 'tn': 23, 'fp': 22, 'fn': 3, 'tp': 149, 'perc_tn': 11.6751269035533, 'perc_fp': 11.16751269035533, 'perc_fn': 1.5228426395939088, 'perc_tp': 75.63451776649747, 'sensitivity': 0.9802631578947368, 'tpr': 0.9802631578947368, 'recall': 0.9802631578947368, 'fpr': 0.4888888888888889, 'precision': 0.8713450292397661, 'ppv': 0.8713450292397661, 'specificity': 0.5111111111111111, 'tnr': 0.5111111111111111, 'f1_score': 0.9226006191950464, 'auc': 0.7456871345029239, 'kappa': 0.5771443290117627, 'accuracy': 0.8730964467005076} \n",
      "\n",
      "{'model': 'random_forest', 'fold': 2, 'tn': 18, 'fp': 17, 'fn': 3, 'tp': 159, 'perc_tn': 9.137055837563452, 'perc_fp': 8.629441624365482, 'perc_fn': 1.5228426395939088, 'perc_tp': 80.71065989847716, 'sensitivity': 0.9814814814814815, 'tpr': 0.9814814814814815, 'recall': 0.9814814814814815, 'fpr': 0.4857142857142857, 'precision': 0.9034090909090909, 'ppv': 0.9034090909090909, 'specificity': 0.5142857142857142, 'tnr': 0.5142857142857142, 'f1_score': 0.940828402366864, 'auc': 0.7478835978835978, 'kappa': 0.5879523112319598, 'accuracy': 0.8984771573604061} \n",
      "\n",
      "{'model': 'random_forest', 'fold': 3, 'tn': 25, 'fp': 15, 'fn': 9, 'tp': 148, 'perc_tn': 12.690355329949238, 'perc_fp': 7.614213197969544, 'perc_fn': 4.568527918781726, 'perc_tp': 75.1269035532995, 'sensitivity': 0.9426751592356688, 'tpr': 0.9426751592356688, 'recall': 0.9426751592356688, 'fpr': 0.375, 'precision': 0.9079754601226994, 'ppv': 0.9079754601226994, 'specificity': 0.625, 'tnr': 0.625, 'f1_score': 0.925, 'auc': 0.7838375796178344, 'kappa': 0.6012818350480689, 'accuracy': 0.8781725888324873} \n",
      "\n",
      "{'model': 'random_forest', 'fold': 4, 'tn': 14, 'fp': 17, 'fn': 7, 'tp': 159, 'perc_tn': 7.1065989847715745, 'perc_fp': 8.629441624365482, 'perc_fn': 3.5532994923857872, 'perc_tp': 80.71065989847716, 'sensitivity': 0.9578313253012049, 'tpr': 0.9578313253012049, 'recall': 0.9578313253012049, 'fpr': 0.5483870967741935, 'precision': 0.9034090909090909, 'ppv': 0.9034090909090909, 'specificity': 0.45161290322580644, 'tnr': 0.45161290322580644, 'f1_score': 0.9298245614035089, 'auc': 0.7047221142635056, 'kappa': 0.4712592261239096, 'accuracy': 0.8781725888324873} \n",
      "\n"
     ]
    }
   ],
   "source": [
    "# Imprime os resultados\n",
    "for i, resultado in enumerate(resultados):\n",
    "    print(resultados[i], '\\n')"
   ]
  },
  {
   "cell_type": "code",
   "execution_count": 33,
   "id": "a0d7da4a",
   "metadata": {},
   "outputs": [],
   "source": [
    "df_resultados = pd.DataFrame(resultados)"
   ]
  },
  {
   "cell_type": "code",
   "execution_count": 36,
   "id": "bd9289b9",
   "metadata": {},
   "outputs": [],
   "source": [
    "df_resultados.to_csv('resultados.csv')"
   ]
  },
  {
   "cell_type": "code",
   "execution_count": null,
   "id": "222678f1",
   "metadata": {},
   "outputs": [],
   "source": []
  }
 ],
 "metadata": {
  "kernelspec": {
   "display_name": "Python 3 (ipykernel)",
   "language": "python",
   "name": "python3"
  },
  "language_info": {
   "codemirror_mode": {
    "name": "ipython",
    "version": 3
   },
   "file_extension": ".py",
   "mimetype": "text/x-python",
   "name": "python",
   "nbconvert_exporter": "python",
   "pygments_lexer": "ipython3",
   "version": "3.9.7"
  }
 },
 "nbformat": 4,
 "nbformat_minor": 5
}
