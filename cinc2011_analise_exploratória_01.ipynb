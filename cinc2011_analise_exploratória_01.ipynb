{
 "cells": [
  {
   "cell_type": "markdown",
   "id": "49d0a196",
   "metadata": {},
   "source": [
    "Dataset:\n",
    "PhysioNet/Computing in Cardiology Challenge 2011\n",
    "\n",
    "https://physionet.org/content/challenge-2011/1.0.0/set-a/#files-panel"
   ]
  },
  {
   "cell_type": "code",
   "execution_count": 1,
   "id": "d6bb0b84",
   "metadata": {},
   "outputs": [],
   "source": [
    "# Extraindo arquivos zipados no formato .tar.gz\n",
    "\n",
    "import tarfile\n",
    "\n",
    "tar = tarfile.open(\"set-a.tar.gz\")\n",
    "tar.extractall()\n",
    "tar.close()\n",
    "\n",
    "# Vai ser gerado uma pasta com nome 'set-a' com os arquivos que estavam dentro da pasta zipada"
   ]
  },
  {
   "cell_type": "code",
   "execution_count": 42,
   "id": "578851ea",
   "metadata": {},
   "outputs": [
    {
     "data": {
      "text/plain": [
       "{'record_name': '1003574',\n",
       " 'n_sig': 12,\n",
       " 'fs': 500,\n",
       " 'counter_freq': None,\n",
       " 'base_counter': None,\n",
       " 'sig_len': 5000,\n",
       " 'base_time': None,\n",
       " 'base_date': None,\n",
       " 'comments': ['<age>: 0 <sex>: ?'],\n",
       " 'sig_name': ['I',\n",
       "  'II',\n",
       "  'III',\n",
       "  'aVR',\n",
       "  'aVF',\n",
       "  'aVL',\n",
       "  'V1',\n",
       "  'V2',\n",
       "  'V3',\n",
       "  'V4',\n",
       "  'V5',\n",
       "  'V6'],\n",
       " 'p_signal': None,\n",
       " 'd_signal': None,\n",
       " 'e_p_signal': None,\n",
       " 'e_d_signal': None,\n",
       " 'file_name': ['1003574.dat',\n",
       "  '1003574.dat',\n",
       "  '1003574.dat',\n",
       "  '1003574.dat',\n",
       "  '1003574.dat',\n",
       "  '1003574.dat',\n",
       "  '1003574.dat',\n",
       "  '1003574.dat',\n",
       "  '1003574.dat',\n",
       "  '1003574.dat',\n",
       "  '1003574.dat',\n",
       "  '1003574.dat'],\n",
       " 'fmt': ['16',\n",
       "  '16',\n",
       "  '16',\n",
       "  '16',\n",
       "  '16',\n",
       "  '16',\n",
       "  '16',\n",
       "  '16',\n",
       "  '16',\n",
       "  '16',\n",
       "  '16',\n",
       "  '16'],\n",
       " 'samps_per_frame': [1, 1, 1, 1, 1, 1, 1, 1, 1, 1, 1, 1],\n",
       " 'skew': [None,\n",
       "  None,\n",
       "  None,\n",
       "  None,\n",
       "  None,\n",
       "  None,\n",
       "  None,\n",
       "  None,\n",
       "  None,\n",
       "  None,\n",
       "  None,\n",
       "  None],\n",
       " 'byte_offset': [None,\n",
       "  None,\n",
       "  None,\n",
       "  None,\n",
       "  None,\n",
       "  None,\n",
       "  None,\n",
       "  None,\n",
       "  None,\n",
       "  None,\n",
       "  None,\n",
       "  None],\n",
       " 'adc_gain': [200.0,\n",
       "  200.0,\n",
       "  200.0,\n",
       "  200.0,\n",
       "  200.0,\n",
       "  200.0,\n",
       "  200.0,\n",
       "  200.0,\n",
       "  200.0,\n",
       "  200.0,\n",
       "  200.0,\n",
       "  200.0],\n",
       " 'baseline': [0, 0, 0, 0, 0, 0, 0, 0, 0, 0, 0, 0],\n",
       " 'units': ['mV',\n",
       "  'mV',\n",
       "  'mV',\n",
       "  'mV',\n",
       "  'mV',\n",
       "  'mV',\n",
       "  'mV',\n",
       "  'mV',\n",
       "  'mV',\n",
       "  'mV',\n",
       "  'mV',\n",
       "  'mV'],\n",
       " 'adc_res': [16, 16, 16, 16, 16, 16, 16, 16, 16, 16, 16, 16],\n",
       " 'adc_zero': [0, 0, 0, 0, 0, 0, 0, 0, 0, 0, 0, 0],\n",
       " 'init_value': [-256,\n",
       "  -156,\n",
       "  100,\n",
       "  206,\n",
       "  -28,\n",
       "  -178,\n",
       "  104,\n",
       "  -124,\n",
       "  -16000,\n",
       "  100,\n",
       "  116,\n",
       "  72],\n",
       " 'checksum': [-1162,\n",
       "  -12180,\n",
       "  -11018,\n",
       "  6574,\n",
       "  21244,\n",
       "  -27746,\n",
       "  21249,\n",
       "  6652,\n",
       "  29373,\n",
       "  -29099,\n",
       "  2427,\n",
       "  7742],\n",
       " 'block_size': [0, 0, 0, 0, 0, 0, 0, 0, 0, 0, 0, 0]}"
      ]
     },
     "execution_count": 42,
     "metadata": {},
     "output_type": "execute_result"
    }
   ],
   "source": [
    "# lendo arquivos\n",
    "import wfdb\n",
    "\n",
    "# Substitua \n",
    "filepath = 'C:/Users/estel/Documents/Python_Codes/set-a/'\n",
    "file_name = '1003574'\n",
    "\n",
    "# Carregue o arquivo .hea para obter informações sobre o sinal\n",
    "record = wfdb.rdheader(filepath + file_name)\n",
    "\n",
    "# Imprima informações sobre o sinal\n",
    "#print(record.__dict__)\n",
    "record.__dict__"
   ]
  },
  {
   "cell_type": "code",
   "execution_count": 43,
   "id": "521e3451",
   "metadata": {},
   "outputs": [
    {
     "data": {
      "text/plain": [
       "(5000, 12)"
      ]
     },
     "execution_count": 43,
     "metadata": {},
     "output_type": "execute_result"
    }
   ],
   "source": [
    "# Carregue os dados do arquivo .dat\n",
    "signals, fields = wfdb.rdsamp(filepath + file_name)\n",
    "signals.shape"
   ]
  },
  {
   "cell_type": "code",
   "execution_count": 44,
   "id": "38193696",
   "metadata": {},
   "outputs": [
    {
     "data": {
      "text/plain": [
       "array([-1.28 , -1.28 , -1.26 , ..., -0.1  , -0.115, -0.12 ])"
      ]
     },
     "execution_count": 44,
     "metadata": {},
     "output_type": "execute_result"
    }
   ],
   "source": [
    "(signals[:,0])"
   ]
  },
  {
   "cell_type": "code",
   "execution_count": 45,
   "id": "c3769d94",
   "metadata": {},
   "outputs": [
    {
     "data": {
      "text/plain": [
       "[<matplotlib.lines.Line2D at 0x20ce2941130>]"
      ]
     },
     "execution_count": 45,
     "metadata": {},
     "output_type": "execute_result"
    },
    {
     "data": {
      "image/png": "[encoded data removed]",
      "text/plain": [
       "<Figure size 432x288 with 1 Axes>"
      ]
     },
     "metadata": {
      "needs_background": "light"
     },
     "output_type": "display_data"
    }
   ],
   "source": [
    "import matplotlib.pyplot as plt\n",
    "\n",
    "plt.plot(signals[:,1])"
   ]
  },
  {
   "cell_type": "code",
   "execution_count": 46,
   "id": "9125f2a6",
   "metadata": {},
   "outputs": [
    {
     "name": "stdout",
     "output_type": "stream",
     "text": [
      "[[-1.28  -0.78   0.5   ...  0.5    0.58   0.36 ]\n",
      " [-1.28  -0.77   0.51  ...  0.5    0.495  0.32 ]\n",
      " [-1.26  -0.755  0.505 ...  0.55   0.52   0.36 ]\n",
      " ...\n",
      " [-0.1   -0.115 -0.015 ... -0.33  -0.42  -0.375]\n",
      " [-0.115 -0.12  -0.005 ... -0.335 -0.42  -0.36 ]\n",
      " [-0.12  -0.12   0.    ... -0.34  -0.4   -0.32 ]]\n",
      "{'fs': 500, 'sig_len': 5000, 'n_sig': 12, 'base_date': None, 'base_time': None, 'units': ['mV', 'mV', 'mV', 'mV', 'mV', 'mV', 'mV', 'mV', 'mV', 'mV', 'mV', 'mV'], 'sig_name': ['I', 'II', 'III', 'aVR', 'aVF', 'aVL', 'V1', 'V2', 'V3', 'V4', 'V5', 'V6'], 'comments': ['<age>: 0 <sex>: ?']}\n"
     ]
    }
   ],
   "source": [
    "# Imprima os dados do sinal\n",
    "print(signals)\n",
    "\n",
    "# Você também pode acessar informações adicionais sobre o sinal usando o objeto 'fields'\n",
    "print(fields)"
   ]
  },
  {
   "cell_type": "code",
   "execution_count": null,
   "id": "f777a878",
   "metadata": {},
   "outputs": [],
   "source": []
  }
 ],
 "metadata": {
  "kernelspec": {
   "display_name": "Python 3 (ipykernel)",
   "language": "python",
   "name": "python3"
  },
  "language_info": {
   "codemirror_mode": {
    "name": "ipython",
    "version": 3
   },
   "file_extension": ".py",
   "mimetype": "text/x-python",
   "name": "python",
   "nbconvert_exporter": "python",
   "pygments_lexer": "ipython3",
   "version": "3.9.7"
  }
 },
 "nbformat": 4,
 "nbformat_minor": 5
}
