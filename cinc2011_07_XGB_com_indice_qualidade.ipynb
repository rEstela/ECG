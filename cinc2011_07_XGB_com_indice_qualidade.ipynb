{
 "cells": [
  {
   "cell_type": "code",
   "execution_count": 1,
   "id": "edbe66f1",
   "metadata": {},
   "outputs": [],
   "source": [
    "# Importando bibliotecas\n",
    "\n",
    "import os\n",
    "import wfdb\n",
    "import numpy as np\n",
    "import pandas as pd\n",
    "from scipy.signal import find_peaks\n",
    "from scipy.stats import skew, kurtosis\n",
    "\n",
    "import matplotlib.pyplot as plt\n",
    "import seaborn as sns\n",
    "\n",
    "from sklearn.model_selection import train_test_split\n",
    "import xgboost as xgb\n",
    "from sklearn.metrics import roc_curve, auc, confusion_matrix, cohen_kappa_score"
   ]
  },
  {
   "cell_type": "code",
   "execution_count": 2,
   "id": "23db33af",
   "metadata": {},
   "outputs": [],
   "source": [
    "# Definindo funções\n",
    "\n",
    "# --------------------------------------------\n",
    "## Plotar sinal de ECG com os picos detectados\n",
    "\n",
    "def plot_detected_peaks(t, ecg_signal, detected_peaks):\n",
    "    # Plotar os sinais original e filtrado com os picos QRS detectados\n",
    "    plt.figure(figsize=(12, 8))\n",
    "    plt.plot(t, ecg_signal, label='Sinal original', alpha=0.7)\n",
    "    plt.scatter(t[detected_peaks], ecg_signal[detected_peaks], color='red', marker='o', label='Picos QRS')\n",
    "    plt.title('Sinal de ECG com Picos R Detectados')\n",
    "    plt.vlines(t[detected_peaks], *plt.ylim(), label=\"Picos\", color=\".2\", alpha=0.3, ls=\"--\")\n",
    "    plt.xlabel('Tempo (s)')\n",
    "    plt.ylabel('Amplitude')\n",
    "    plt.legend()\n",
    "    plt.show()\n",
    "\n",
    "# --------------------------------------------\n",
    "## Indices de qualidade\n",
    "\n",
    "def compute_iSQI(detected_peaks, total_beats):\n",
    "    return len(detected_peaks) / total_beats * 100\n",
    "\n",
    "def compute_fSQI(ecg_signal, sampling_rate=1000):\n",
    "    fn = 0.5 * sampling_rate  # Frequência de Nyquist\n",
    "    power_5_20Hz = np.sum(np.square(ecg_signal[(5 <= fn) & (fn <= 20)]))\n",
    "    power_0_fnHz = np.sum(np.square(ecg_signal[fn <= 0.5 * sampling_rate]))\n",
    "    return power_5_20Hz / power_0_fnHz\n",
    "\n",
    "def compute_sSQI(ecg_signal):\n",
    "    return skew(ecg_signal)\n",
    "\n",
    "def compute_kSQI(ecg_signal):\n",
    "    return kurtosis(ecg_signal)\n",
    "\n",
    "def compute_pSQI(ecg_signal, epsilon=1.0):\n",
    "    dxm_dt = np.gradient(ecg_signal)\n",
    "    flat_line_percentage = np.sum(np.abs(dxm_dt) < epsilon) / len(ecg_signal) * 100\n",
    "    return flat_line_percentage\n",
    "\n",
    "def get_quality_indexes(peaks, t, ecg_signal):\n",
    "    # Calcular índices de qualidade\n",
    "    iSQI_value = compute_iSQI(peaks, len(t))\n",
    "    fSQI_value = compute_fSQI(ecg_signal)\n",
    "    sSQI_value = compute_sSQI(ecg_signal)\n",
    "    kSQI_value = compute_kSQI(ecg_signal)\n",
    "    pSQI_value = compute_pSQI(ecg_signal)\n",
    "    return [iSQI_value, fSQI_value, sSQI_value, kSQI_value, pSQI_value]"
   ]
  },
  {
   "cell_type": "code",
   "execution_count": 3,
   "id": "b556ccc1",
   "metadata": {},
   "outputs": [],
   "source": [
    "# Generate binary classification analysis\n",
    "def classification_metrics_binary(y_true, y_pred):\n",
    "    tn, fp, fn, tp = confusion_matrix(y_true, y_pred).ravel()\n",
    "    perc_tn, perc_fp, perc_fn, perc_tp = list(map(lambda x:x/len(y_true)*100, [tn, fp, fn, tp]))\n",
    "    sensitivity = tp/(tp+fn)\n",
    "    false_positive_rate = fp/(tn+fp)\n",
    "    precision = tp/(tp+fp)\n",
    "    specificity = tn/(tn+fp)\n",
    "    accuracy = (tp+tn)/(tp+fp+tn+fn)\n",
    "    f1_score = 2*precision*sensitivity/(sensitivity+precision)\n",
    "    fpr, tpr, thresholds = roc_curve(y_true, y_pred)\n",
    "    auc_value = auc(fpr, tpr)\n",
    "    kappa = cohen_kappa_score(y_true, y_pred)\n",
    "    return {\"tn\":tn, \"fp\":fp, \"fn\":fn, \"tp\":tp, \"perc_tn\":perc_tn, \"perc_fp\":perc_fp, \n",
    "            \"perc_fn\":perc_fn, \"perc_tp\":perc_tp, \"sensitivity\":sensitivity, \n",
    "            \"tpr\":sensitivity, \"recall\":sensitivity, \"fpr\":false_positive_rate, \n",
    "            \"precision\":precision, \"ppv\":precision, \"specificity\":specificity, \n",
    "            \"tnr\":specificity,\"f1_score\":f1_score, \"auc\":auc_value, \"kappa\":kappa, \n",
    "            \"accuracy\":accuracy}\n",
    "\n",
    "# Plot Confusion Matrix\n",
    "def plot_confusion(y_true, y_pred):\n",
    "    # Generate the confusion matrix\n",
    "    cm = confusion_matrix(y_true, y_pred)\n",
    "    class_name = ['Ruim', 'Bom']\n",
    "    cm = pd.DataFrame(cm, index=class_name, columns=class_name)\n",
    "\n",
    "    # Plot the confusion matrix\n",
    "    plt.figure(figsize=(8, 6))\n",
    "    sns.heatmap(cm, annot=True, fmt='g', cmap='Blues', cbar=False)\n",
    "    plt.title('Confusion Matrix')\n",
    "    plt.xlabel('Predicted Labels')\n",
    "    plt.ylabel('True Labels')\n",
    "\n",
    "    # Salva a figura como .eps\n",
    "    #plt.savefig('confusion_matrix.eps', format='eps')\n",
    "\n",
    "    # Salva a figura como .png com 300 DPI\n",
    "    #plt.savefig('confusion_matrix.png', format='png', dpi=300)\n",
    "\n",
    "    plt.show()\n"
   ]
  },
  {
   "cell_type": "code",
   "execution_count": 4,
   "id": "3fb387dd",
   "metadata": {},
   "outputs": [],
   "source": [
    "# VISUALIZANDO RESULTADOS\n",
    "\n",
    "def show_results(idx):\n",
    "    paciente = df_ecg_cinc2011[idx]['Paciente']\n",
    "    classe = df_ecg_cinc2011[idx]['Classe']\n",
    "    features = df_ecg_cinc2011[idx]['Features']\n",
    "    ecg = df_ecg_cinc2011[idx]['Sinais']\n",
    "    picos = df_ecg_cinc2011[idx]['Picos']\n",
    "\n",
    "    print(f'FILENAME: {paciente}')\n",
    "    print(f'CLASSE: {classe}')\n",
    "    print(f'FEATURES: {features}')\n",
    "\n",
    "    plot_detected_peaks(t, ecg, picos)"
   ]
  },
  {
   "cell_type": "code",
   "execution_count": 5,
   "id": "94251fbb",
   "metadata": {},
   "outputs": [],
   "source": [
    "# Diretório que contém os arquivos .hea e .dat\n",
    "diretorio = 'C:/Users/estela.ribeiro/JupyterNotebooks/ECGcodes/set-a/'"
   ]
  },
  {
   "cell_type": "code",
   "execution_count": 6,
   "id": "8a746acb",
   "metadata": {},
   "outputs": [
    {
     "name": "stderr",
     "output_type": "stream",
     "text": [
      "C:\\Users\\ESTELA~1.RIB\\AppData\\Local\\Temp/ipykernel_8236/2564668317.py:28: RuntimeWarning: invalid value encountered in double_scalars\n",
      "  return power_5_20Hz / power_0_fnHz\n"
     ]
    }
   ],
   "source": [
    "# Gerando o dataset\n",
    "\n",
    "# Lista para armazenar os sinais, nomes de arquivo e classes\n",
    "df_ecg_cinc2011 = []\n",
    "\n",
    "# Lê os nomes dos pacientes da classe 'positiva' a partir do arquivo .txt\n",
    "with open(diretorio + 'RECORDS-acceptable', 'r') as file_positivo:\n",
    "    boa_qualidade = [line.strip() for line in file_positivo]\n",
    "\n",
    "# Lê os nomes dos pacientes da classe 'negativa' a partir do arquivo .txt\n",
    "with open(diretorio + 'RECORDS-unacceptable', 'r') as file_negativo:\n",
    "    ma_qualidade = [line.strip() for line in file_negativo]\n",
    "\n",
    "# Itera sobre todos os arquivos no diretório\n",
    "for arquivo in os.listdir(diretorio):\n",
    "    if arquivo.endswith('.hea'):\n",
    "        # Extrai o nome do arquivo sem a extensão\n",
    "        nome_base = os.path.splitext(arquivo)[0]\n",
    "\n",
    "        # Carrega as informações do cabeçalho (.hea)\n",
    "        record = wfdb.rdheader(os.path.join(diretorio, nome_base))\n",
    "\n",
    "        # Carrega os dados do sinal (.dat)\n",
    "        signals, _ = wfdb.rdsamp(os.path.join(diretorio, nome_base))\n",
    "        \n",
    "        # Como vou usar apenas a DII, seleciono apenas essa derivação\n",
    "        ecg_signal = signals[:,1]\n",
    "\n",
    "        # Determina a classe do paciente\n",
    "        if nome_base in boa_qualidade:\n",
    "            classe = 1 # bom\n",
    "        elif nome_base in ma_qualidade:\n",
    "            classe = 0 # ruim\n",
    "        else:\n",
    "            classe = np.nan\n",
    "        \n",
    "        # Identifica os picos nos sinais de ECG\n",
    "        sampling_rate = record.fs\n",
    "        duration = 10 # segundos\n",
    "        t = np.arange(0, duration, 1/sampling_rate)\n",
    "        peaks, _ = find_peaks(ecg_signal, height = 0.2, distance = sampling_rate/2)\n",
    "        \n",
    "        # Gera os indices de qualidade\n",
    "        indices = get_quality_indexes(peaks, t, ecg_signal)\n",
    "        \n",
    "        #plot_detected_peaks(t, ecg_signal, peaks) # Deixar comentado essa linha para não gerar os plots\n",
    "\n",
    "        # Adiciona os sinais, informações adicionais e a classe à lista\n",
    "        df_ecg_cinc2011.append({'Paciente': nome_base, 'Sinais': ecg_signal, 'Frequencia de Amostragem': record.fs, \n",
    "                                'Classe': classe, 'Picos': peaks, 'Features': indices})"
   ]
  },
  {
   "cell_type": "code",
   "execution_count": 7,
   "id": "73851ca4",
   "metadata": {},
   "outputs": [
    {
     "name": "stdout",
     "output_type": "stream",
     "text": [
      "Quantidade de pacientes: 1000\n"
     ]
    },
    {
     "data": {
      "text/html": [
       "<div>\n",
       "<style scoped>\n",
       "    .dataframe tbody tr th:only-of-type {\n",
       "        vertical-align: middle;\n",
       "    }\n",
       "\n",
       "    .dataframe tbody tr th {\n",
       "        vertical-align: top;\n",
       "    }\n",
       "\n",
       "    .dataframe thead th {\n",
       "        text-align: right;\n",
       "    }\n",
       "</style>\n",
       "<table border=\"1\" class=\"dataframe\">\n",
       "  <thead>\n",
       "    <tr style=\"text-align: right;\">\n",
       "      <th></th>\n",
       "      <th>Features</th>\n",
       "      <th>Classe</th>\n",
       "    </tr>\n",
       "  </thead>\n",
       "  <tbody>\n",
       "    <tr>\n",
       "      <th>0</th>\n",
       "      <td>[0.0, 0.0, 0.0, -3.0, 100.0]</td>\n",
       "      <td>0.0</td>\n",
       "    </tr>\n",
       "    <tr>\n",
       "      <th>1</th>\n",
       "      <td>[0.2, 0.0, -0.46612093186253545, 19.3928051755...</td>\n",
       "      <td>1.0</td>\n",
       "    </tr>\n",
       "    <tr>\n",
       "      <th>2</th>\n",
       "      <td>[0.16, 0.0, -2.1746740930593185, 9.44945315641...</td>\n",
       "      <td>0.0</td>\n",
       "    </tr>\n",
       "    <tr>\n",
       "      <th>3</th>\n",
       "      <td>[0.3, 0.0, -0.6684783077838481, 2.535005784455...</td>\n",
       "      <td>0.0</td>\n",
       "    </tr>\n",
       "    <tr>\n",
       "      <th>4</th>\n",
       "      <td>[0.2, 0.0, 4.419841197862508, 25.0690525928515...</td>\n",
       "      <td>1.0</td>\n",
       "    </tr>\n",
       "  </tbody>\n",
       "</table>\n",
       "</div>"
      ],
      "text/plain": [
       "                                            Features  Classe\n",
       "0                       [0.0, 0.0, 0.0, -3.0, 100.0]     0.0\n",
       "1  [0.2, 0.0, -0.46612093186253545, 19.3928051755...     1.0\n",
       "2  [0.16, 0.0, -2.1746740930593185, 9.44945315641...     0.0\n",
       "3  [0.3, 0.0, -0.6684783077838481, 2.535005784455...     0.0\n",
       "4  [0.2, 0.0, 4.419841197862508, 25.0690525928515...     1.0"
      ]
     },
     "execution_count": 7,
     "metadata": {},
     "output_type": "execute_result"
    }
   ],
   "source": [
    "df_ecg_cinc2011 = pd.DataFrame(df_ecg_cinc2011)\n",
    "print('Quantidade de pacientes:', len(np.unique(df_ecg_cinc2011['Paciente'])))\n",
    "\n",
    "# Seleciona apenas as colunas relevantes (Features e Classe)\n",
    "df_ecg = df_ecg_cinc2011[['Features', 'Classe']]\n",
    "\n",
    "df_ecg.head()"
   ]
  },
  {
   "cell_type": "code",
   "execution_count": 8,
   "id": "4c016578",
   "metadata": {},
   "outputs": [
    {
     "data": {
      "text/html": [
       "<div>\n",
       "<style scoped>\n",
       "    .dataframe tbody tr th:only-of-type {\n",
       "        vertical-align: middle;\n",
       "    }\n",
       "\n",
       "    .dataframe tbody tr th {\n",
       "        vertical-align: top;\n",
       "    }\n",
       "\n",
       "    .dataframe thead th {\n",
       "        text-align: right;\n",
       "    }\n",
       "</style>\n",
       "<table border=\"1\" class=\"dataframe\">\n",
       "  <thead>\n",
       "    <tr style=\"text-align: right;\">\n",
       "      <th></th>\n",
       "      <th>iSQI</th>\n",
       "      <th>fSQI</th>\n",
       "      <th>sSQI</th>\n",
       "      <th>kSQI</th>\n",
       "      <th>pSQI</th>\n",
       "      <th>Classe</th>\n",
       "    </tr>\n",
       "  </thead>\n",
       "  <tbody>\n",
       "    <tr>\n",
       "      <th>0</th>\n",
       "      <td>0.00</td>\n",
       "      <td>0.0</td>\n",
       "      <td>0.000000</td>\n",
       "      <td>-3.000000</td>\n",
       "      <td>100.0</td>\n",
       "      <td>0.0</td>\n",
       "    </tr>\n",
       "    <tr>\n",
       "      <th>1</th>\n",
       "      <td>0.20</td>\n",
       "      <td>0.0</td>\n",
       "      <td>-0.466121</td>\n",
       "      <td>19.392805</td>\n",
       "      <td>100.0</td>\n",
       "      <td>1.0</td>\n",
       "    </tr>\n",
       "    <tr>\n",
       "      <th>2</th>\n",
       "      <td>0.16</td>\n",
       "      <td>0.0</td>\n",
       "      <td>-2.174674</td>\n",
       "      <td>9.449453</td>\n",
       "      <td>100.0</td>\n",
       "      <td>0.0</td>\n",
       "    </tr>\n",
       "    <tr>\n",
       "      <th>3</th>\n",
       "      <td>0.30</td>\n",
       "      <td>0.0</td>\n",
       "      <td>-0.668478</td>\n",
       "      <td>2.535006</td>\n",
       "      <td>100.0</td>\n",
       "      <td>0.0</td>\n",
       "    </tr>\n",
       "    <tr>\n",
       "      <th>4</th>\n",
       "      <td>0.20</td>\n",
       "      <td>0.0</td>\n",
       "      <td>4.419841</td>\n",
       "      <td>25.069053</td>\n",
       "      <td>100.0</td>\n",
       "      <td>1.0</td>\n",
       "    </tr>\n",
       "  </tbody>\n",
       "</table>\n",
       "</div>"
      ],
      "text/plain": [
       "   iSQI  fSQI      sSQI       kSQI   pSQI  Classe\n",
       "0  0.00   0.0  0.000000  -3.000000  100.0     0.0\n",
       "1  0.20   0.0 -0.466121  19.392805  100.0     1.0\n",
       "2  0.16   0.0 -2.174674   9.449453  100.0     0.0\n",
       "3  0.30   0.0 -0.668478   2.535006  100.0     0.0\n",
       "4  0.20   0.0  4.419841  25.069053  100.0     1.0"
      ]
     },
     "execution_count": 8,
     "metadata": {},
     "output_type": "execute_result"
    }
   ],
   "source": [
    "df = pd.DataFrame(df_ecg['Features'].tolist(), columns=['iSQI', 'fSQI', 'sSQI', 'kSQI', 'pSQI'])\n",
    "df['Classe'] = df_ecg['Classe']\n",
    "\n",
    "df.head()"
   ]
  },
  {
   "cell_type": "code",
   "execution_count": 9,
   "id": "ff9f2948",
   "metadata": {},
   "outputs": [
    {
     "name": "stdout",
     "output_type": "stream",
     "text": [
      "NaN? : iSQI       0\n",
      "fSQI      12\n",
      "sSQI       0\n",
      "kSQI       0\n",
      "pSQI       0\n",
      "Classe     2\n",
      "dtype: int64\n"
     ]
    }
   ],
   "source": [
    "print(f'NaN? : {pd.isna(df).sum()}')"
   ]
  },
  {
   "cell_type": "code",
   "execution_count": 10,
   "id": "243cf3dc",
   "metadata": {},
   "outputs": [],
   "source": [
    "df = df.dropna()"
   ]
  },
  {
   "cell_type": "code",
   "execution_count": 11,
   "id": "22105ef2",
   "metadata": {},
   "outputs": [
    {
     "name": "stdout",
     "output_type": "stream",
     "text": [
      "NaN? : iSQI      0\n",
      "fSQI      0\n",
      "sSQI      0\n",
      "kSQI      0\n",
      "pSQI      0\n",
      "Classe    0\n",
      "dtype: int64\n"
     ]
    }
   ],
   "source": [
    "print(f'NaN? : {pd.isna(df).sum()}')"
   ]
  },
  {
   "cell_type": "code",
   "execution_count": 12,
   "id": "e7e519fc",
   "metadata": {},
   "outputs": [],
   "source": [
    "# Separa as Features e a Classe\n",
    "X = df[['iSQI', 'fSQI', 'sSQI', 'kSQI', 'pSQI']]\n",
    "y = df['Classe']"
   ]
  },
  {
   "cell_type": "code",
   "execution_count": 13,
   "id": "3e9bd84b",
   "metadata": {},
   "outputs": [],
   "source": [
    "# Divide o conjunto de dados em treino e teste\n",
    "X_train, X_test, y_train, y_test = train_test_split(X, y, test_size=0.2, random_state=42)"
   ]
  },
  {
   "cell_type": "code",
   "execution_count": 14,
   "id": "7840d858",
   "metadata": {},
   "outputs": [
    {
     "data": {
      "text/html": [
       "<style>#sk-container-id-1 {color: black;background-color: white;}#sk-container-id-1 pre{padding: 0;}#sk-container-id-1 div.sk-toggleable {background-color: white;}#sk-container-id-1 label.sk-toggleable__label {cursor: pointer;display: block;width: 100%;margin-bottom: 0;padding: 0.3em;box-sizing: border-box;text-align: center;}#sk-container-id-1 label.sk-toggleable__label-arrow:before {content: \"▸\";float: left;margin-right: 0.25em;color: #696969;}#sk-container-id-1 label.sk-toggleable__label-arrow:hover:before {color: black;}#sk-container-id-1 div.sk-estimator:hover label.sk-toggleable__label-arrow:before {color: black;}#sk-container-id-1 div.sk-toggleable__content {max-height: 0;max-width: 0;overflow: hidden;text-align: left;background-color: #f0f8ff;}#sk-container-id-1 div.sk-toggleable__content pre {margin: 0.2em;color: black;border-radius: 0.25em;background-color: #f0f8ff;}#sk-container-id-1 input.sk-toggleable__control:checked~div.sk-toggleable__content {max-height: 200px;max-width: 100%;overflow: auto;}#sk-container-id-1 input.sk-toggleable__control:checked~label.sk-toggleable__label-arrow:before {content: \"▾\";}#sk-container-id-1 div.sk-estimator input.sk-toggleable__control:checked~label.sk-toggleable__label {background-color: #d4ebff;}#sk-container-id-1 div.sk-label input.sk-toggleable__control:checked~label.sk-toggleable__label {background-color: #d4ebff;}#sk-container-id-1 input.sk-hidden--visually {border: 0;clip: rect(1px 1px 1px 1px);clip: rect(1px, 1px, 1px, 1px);height: 1px;margin: -1px;overflow: hidden;padding: 0;position: absolute;width: 1px;}#sk-container-id-1 div.sk-estimator {font-family: monospace;background-color: #f0f8ff;border: 1px dotted black;border-radius: 0.25em;box-sizing: border-box;margin-bottom: 0.5em;}#sk-container-id-1 div.sk-estimator:hover {background-color: #d4ebff;}#sk-container-id-1 div.sk-parallel-item::after {content: \"\";width: 100%;border-bottom: 1px solid gray;flex-grow: 1;}#sk-container-id-1 div.sk-label:hover label.sk-toggleable__label {background-color: #d4ebff;}#sk-container-id-1 div.sk-serial::before {content: \"\";position: absolute;border-left: 1px solid gray;box-sizing: border-box;top: 0;bottom: 0;left: 50%;z-index: 0;}#sk-container-id-1 div.sk-serial {display: flex;flex-direction: column;align-items: center;background-color: white;padding-right: 0.2em;padding-left: 0.2em;position: relative;}#sk-container-id-1 div.sk-item {position: relative;z-index: 1;}#sk-container-id-1 div.sk-parallel {display: flex;align-items: stretch;justify-content: center;background-color: white;position: relative;}#sk-container-id-1 div.sk-item::before, #sk-container-id-1 div.sk-parallel-item::before {content: \"\";position: absolute;border-left: 1px solid gray;box-sizing: border-box;top: 0;bottom: 0;left: 50%;z-index: -1;}#sk-container-id-1 div.sk-parallel-item {display: flex;flex-direction: column;z-index: 1;position: relative;background-color: white;}#sk-container-id-1 div.sk-parallel-item:first-child::after {align-self: flex-end;width: 50%;}#sk-container-id-1 div.sk-parallel-item:last-child::after {align-self: flex-start;width: 50%;}#sk-container-id-1 div.sk-parallel-item:only-child::after {width: 0;}#sk-container-id-1 div.sk-dashed-wrapped {border: 1px dashed gray;margin: 0 0.4em 0.5em 0.4em;box-sizing: border-box;padding-bottom: 0.4em;background-color: white;}#sk-container-id-1 div.sk-label label {font-family: monospace;font-weight: bold;display: inline-block;line-height: 1.2em;}#sk-container-id-1 div.sk-label-container {text-align: center;}#sk-container-id-1 div.sk-container {/* jupyter's `normalize.less` sets `[hidden] { display: none; }` but bootstrap.min.css set `[hidden] { display: none !important; }` so we also need the `!important` here to be able to override the default hidden behavior on the sphinx rendered scikit-learn.org. See: https://github.com/scikit-learn/scikit-learn/issues/21755 */display: inline-block !important;position: relative;}#sk-container-id-1 div.sk-text-repr-fallback {display: none;}</style><div id=\"sk-container-id-1\" class=\"sk-top-container\"><div class=\"sk-text-repr-fallback\"><pre>XGBClassifier(base_score=None, booster=None, callbacks=None,\n",
       "              colsample_bylevel=None, colsample_bynode=None,\n",
       "              colsample_bytree=None, early_stopping_rounds=None,\n",
       "              enable_categorical=False, eval_metric=None, feature_types=None,\n",
       "              gamma=None, gpu_id=None, grow_policy=None, importance_type=None,\n",
       "              interaction_constraints=None, learning_rate=None, max_bin=None,\n",
       "              max_cat_threshold=None, max_cat_to_onehot=None,\n",
       "              max_delta_step=None, max_depth=None, max_leaves=None,\n",
       "              min_child_weight=None, missing=nan, monotone_constraints=None,\n",
       "              n_estimators=100, n_jobs=None, num_parallel_tree=None,\n",
       "              predictor=None, random_state=42, ...)</pre><b>In a Jupyter environment, please rerun this cell to show the HTML representation or trust the notebook. <br />On GitHub, the HTML representation is unable to render, please try loading this page with nbviewer.org.</b></div><div class=\"sk-container\" hidden><div class=\"sk-item\"><div class=\"sk-estimator sk-toggleable\"><input class=\"sk-toggleable__control sk-hidden--visually\" id=\"sk-estimator-id-1\" type=\"checkbox\" checked><label for=\"sk-estimator-id-1\" class=\"sk-toggleable__label sk-toggleable__label-arrow\">XGBClassifier</label><div class=\"sk-toggleable__content\"><pre>XGBClassifier(base_score=None, booster=None, callbacks=None,\n",
       "              colsample_bylevel=None, colsample_bynode=None,\n",
       "              colsample_bytree=None, early_stopping_rounds=None,\n",
       "              enable_categorical=False, eval_metric=None, feature_types=None,\n",
       "              gamma=None, gpu_id=None, grow_policy=None, importance_type=None,\n",
       "              interaction_constraints=None, learning_rate=None, max_bin=None,\n",
       "              max_cat_threshold=None, max_cat_to_onehot=None,\n",
       "              max_delta_step=None, max_depth=None, max_leaves=None,\n",
       "              min_child_weight=None, missing=nan, monotone_constraints=None,\n",
       "              n_estimators=100, n_jobs=None, num_parallel_tree=None,\n",
       "              predictor=None, random_state=42, ...)</pre></div></div></div></div></div>"
      ],
      "text/plain": [
       "XGBClassifier(base_score=None, booster=None, callbacks=None,\n",
       "              colsample_bylevel=None, colsample_bynode=None,\n",
       "              colsample_bytree=None, early_stopping_rounds=None,\n",
       "              enable_categorical=False, eval_metric=None, feature_types=None,\n",
       "              gamma=None, gpu_id=None, grow_policy=None, importance_type=None,\n",
       "              interaction_constraints=None, learning_rate=None, max_bin=None,\n",
       "              max_cat_threshold=None, max_cat_to_onehot=None,\n",
       "              max_delta_step=None, max_depth=None, max_leaves=None,\n",
       "              min_child_weight=None, missing=nan, monotone_constraints=None,\n",
       "              n_estimators=100, n_jobs=None, num_parallel_tree=None,\n",
       "              predictor=None, random_state=42, ...)"
      ]
     },
     "execution_count": 14,
     "metadata": {},
     "output_type": "execute_result"
    }
   ],
   "source": [
    "# Inicializa o modelo Random Forest\n",
    "modelo_xgb = xgb.XGBClassifier(random_state=42)\n",
    "\n",
    "modelo_xgb.fit(X_train, y_train)"
   ]
  },
  {
   "cell_type": "code",
   "execution_count": 15,
   "id": "b58757a3",
   "metadata": {},
   "outputs": [
    {
     "data": {
      "image/png": "[encoded data removed]",
      "text/plain": [
       "<Figure size 576x432 with 1 Axes>"
      ]
     },
     "metadata": {
      "needs_background": "light"
     },
     "output_type": "display_data"
    },
    {
     "name": "stdout",
     "output_type": "stream",
     "text": [
      "{'tn': 19, 'fp': 21, 'fn': 6, 'tp': 152, 'perc_tn': 9.595959595959595, 'perc_fp': 10.606060606060606, 'perc_fn': 3.0303030303030303, 'perc_tp': 76.76767676767676, 'sensitivity': 0.9620253164556962, 'tpr': 0.9620253164556962, 'recall': 0.9620253164556962, 'fpr': 0.525, 'precision': 0.8786127167630058, 'ppv': 0.8786127167630058, 'specificity': 0.475, 'tnr': 0.475, 'f1_score': 0.918429003021148, 'auc': 0.718512658227848, 'kappa': 0.5081876724931003, 'accuracy': 0.8636363636363636}\n"
     ]
    }
   ],
   "source": [
    "y_pred = modelo_xgb.predict(X_test)\n",
    "\n",
    "# Results\n",
    "plot_confusion(y_test, y_pred)\n",
    "results = classification_metrics_binary(y_test, y_pred)\n",
    "print(results)"
   ]
  },
  {
   "cell_type": "code",
   "execution_count": 16,
   "id": "a2084816",
   "metadata": {},
   "outputs": [
    {
     "name": "stdout",
     "output_type": "stream",
     "text": [
      "pSQI: 2.788001537322998\n",
      "kSQI: 1.2802563905715942\n",
      "iSQI: 0.625689685344696\n",
      "sSQI: 0.5620837211608887\n"
     ]
    }
   ],
   "source": [
    "# Feature importance\n",
    "importance = modelo_xgb.get_booster().get_score(importance_type='gain')\n",
    "\n",
    "sorted_importance = sorted(importance.items(), key=lambda x: x[1], reverse=True)\n",
    "\n",
    "for feature, importance_score in sorted_importance:\n",
    "    print(f'{feature}: {importance_score}')"
   ]
  },
  {
   "cell_type": "code",
   "execution_count": 18,
   "id": "500e3dfd",
   "metadata": {},
   "outputs": [
    {
     "data": {
      "text/plain": [
       "<Figure size 432x288 with 0 Axes>"
      ]
     },
     "metadata": {},
     "output_type": "display_data"
    },
    {
     "data": {
      "image/png": "[encoded data removed]",
      "text/plain": [
       "<Figure size 432x288 with 1 Axes>"
      ]
     },
     "metadata": {
      "needs_background": "light"
     },
     "output_type": "display_data"
    }
   ],
   "source": [
    "plt.figure()\n",
    "xgb.plot_importance(modelo_xgb, importance_type='gain', show_values=False, height = 0.6)\n",
    "plt.title('Feature Importance (XGBoost)')\n",
    "plt.xlabel('Gain')\n",
    "plt.ylabel('Features')\n",
    "plt.show()"
   ]
  },
  {
   "cell_type": "code",
   "execution_count": null,
   "id": "d644663a",
   "metadata": {},
   "outputs": [],
   "source": []
  }
 ],
 "metadata": {
  "kernelspec": {
   "display_name": "Python 3 (ipykernel)",
   "language": "python",
   "name": "python3"
  },
  "language_info": {
   "codemirror_mode": {
    "name": "ipython",
    "version": 3
   },
   "file_extension": ".py",
   "mimetype": "text/x-python",
   "name": "python",
   "nbconvert_exporter": "python",
   "pygments_lexer": "ipython3",
   "version": "3.9.7"
  }
 },
 "nbformat": 4,
 "nbformat_minor": 5
}
