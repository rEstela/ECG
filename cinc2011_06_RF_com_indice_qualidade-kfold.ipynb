{
 "cells": [
  {
   "cell_type": "code",
   "execution_count": 1,
   "id": "edbe66f1",
   "metadata": {},
   "outputs": [],
   "source": [
    "# Importando bibliotecas\n",
    "\n",
    "import os\n",
    "import wfdb\n",
    "import numpy as np\n",
    "import pandas as pd\n",
    "from scipy.signal import find_peaks\n",
    "from scipy.stats import skew, kurtosis\n",
    "\n",
    "import matplotlib.pyplot as plt\n",
    "import seaborn as sns\n",
    "\n",
    "from sklearn.model_selection import train_test_split\n",
    "from sklearn.ensemble import RandomForestClassifier\n",
    "from sklearn.metrics import roc_curve, auc, confusion_matrix, cohen_kappa_score\n",
    "\n",
    "from sklearn.model_selection import KFold"
   ]
  },
  {
   "cell_type": "code",
   "execution_count": 2,
   "id": "23db33af",
   "metadata": {},
   "outputs": [],
   "source": [
    "# Definindo funções\n",
    "\n",
    "# --------------------------------------------\n",
    "## Plotar sinal de ECG com os picos detectados\n",
    "\n",
    "def plot_detected_peaks(t, ecg_signal, detected_peaks):\n",
    "    # Plotar os sinais original e filtrado com os picos QRS detectados\n",
    "    plt.figure(figsize=(12, 8))\n",
    "    plt.plot(t, ecg_signal, label='Sinal original', alpha=0.7)\n",
    "    plt.scatter(t[detected_peaks], ecg_signal[detected_peaks], color='red', marker='o', label='Picos QRS')\n",
    "    plt.title('Sinal de ECG com Picos R Detectados')\n",
    "    plt.vlines(t[detected_peaks], *plt.ylim(), label=\"Picos\", color=\".2\", alpha=0.3, ls=\"--\")\n",
    "    plt.xlabel('Tempo (s)')\n",
    "    plt.ylabel('Amplitude')\n",
    "    plt.legend()\n",
    "    plt.show()\n",
    "\n",
    "# --------------------------------------------\n",
    "## Indices de qualidade\n",
    "\n",
    "def compute_iSQI(detected_peaks, total_beats):\n",
    "    return len(detected_peaks) / total_beats * 100\n",
    "\n",
    "def compute_fSQI(ecg_signal, sampling_rate=1000):\n",
    "    fn = 0.5 * sampling_rate  # Frequência de Nyquist\n",
    "    power_5_20Hz = np.sum(np.square(ecg_signal[(5 <= fn) & (fn <= 20)]))\n",
    "    power_0_fnHz = np.sum(np.square(ecg_signal[fn <= 0.5 * sampling_rate]))\n",
    "    return power_5_20Hz / power_0_fnHz\n",
    "\n",
    "def compute_sSQI(ecg_signal):\n",
    "    return skew(ecg_signal)\n",
    "\n",
    "def compute_kSQI(ecg_signal):\n",
    "    return kurtosis(ecg_signal)\n",
    "\n",
    "def compute_pSQI(ecg_signal, epsilon=1.0):\n",
    "    dxm_dt = np.gradient(ecg_signal)\n",
    "    flat_line_percentage = np.sum(np.abs(dxm_dt) < epsilon) / len(ecg_signal) * 100\n",
    "    return flat_line_percentage\n",
    "\n",
    "def get_quality_indexes(peaks, t, ecg_signal):\n",
    "    # Calcular índices de qualidade\n",
    "    iSQI_value = compute_iSQI(peaks, len(t))\n",
    "    fSQI_value = compute_fSQI(ecg_signal)\n",
    "    sSQI_value = compute_sSQI(ecg_signal)\n",
    "    kSQI_value = compute_kSQI(ecg_signal)\n",
    "    pSQI_value = compute_pSQI(ecg_signal)\n",
    "    return [iSQI_value, fSQI_value, sSQI_value, kSQI_value, pSQI_value]"
   ]
  },
  {
   "cell_type": "code",
   "execution_count": 3,
   "id": "b556ccc1",
   "metadata": {},
   "outputs": [],
   "source": [
    "# Generate binary classification analysis\n",
    "def classification_metrics_binary(y_true, y_pred):\n",
    "    tn, fp, fn, tp = confusion_matrix(y_true, y_pred).ravel()\n",
    "    perc_tn, perc_fp, perc_fn, perc_tp = list(map(lambda x:x/len(y_true)*100, [tn, fp, fn, tp]))\n",
    "    sensitivity = tp/(tp+fn)\n",
    "    false_positive_rate = fp/(tn+fp)\n",
    "    precision = tp/(tp+fp)\n",
    "    specificity = tn/(tn+fp)\n",
    "    accuracy = (tp+tn)/(tp+fp+tn+fn)\n",
    "    f1_score = 2*precision*sensitivity/(sensitivity+precision)\n",
    "    fpr, tpr, thresholds = roc_curve(y_true, y_pred)\n",
    "    auc_value = auc(fpr, tpr)\n",
    "    kappa = cohen_kappa_score(y_true, y_pred)\n",
    "    return {\"tn\":tn, \"fp\":fp, \"fn\":fn, \"tp\":tp, \"perc_tn\":perc_tn, \"perc_fp\":perc_fp, \n",
    "            \"perc_fn\":perc_fn, \"perc_tp\":perc_tp, \"sensitivity\":sensitivity, \n",
    "            \"tpr\":sensitivity, \"recall\":sensitivity, \"fpr\":false_positive_rate, \n",
    "            \"precision\":precision, \"ppv\":precision, \"specificity\":specificity, \n",
    "            \"tnr\":specificity,\"f1_score\":f1_score, \"auc\":auc_value, \"kappa\":kappa, \n",
    "            \"accuracy\":accuracy}\n",
    "\n",
    "# Plot Confusion Matrix\n",
    "def plot_confusion(y_true, y_pred):\n",
    "    # Generate the confusion matrix\n",
    "    cm = confusion_matrix(y_true, y_pred)\n",
    "    class_name = ['Ruim', 'Bom']\n",
    "    cm = pd.DataFrame(cm, index=class_name, columns=class_name)\n",
    "\n",
    "    # Plot the confusion matrix\n",
    "    plt.figure(figsize=(8, 6))\n",
    "    sns.heatmap(cm, annot=True, fmt='g', cmap='Blues', cbar=False)\n",
    "    plt.title('Confusion Matrix')\n",
    "    plt.xlabel('Predicted Labels')\n",
    "    plt.ylabel('True Labels')\n",
    "\n",
    "    # Salva a figura como .eps\n",
    "    plt.savefig('confusion_matrix_FAxNORMAL_preprocessed.eps', format='eps')\n",
    "\n",
    "    # Salva a figura como .png com 300 DPI\n",
    "    plt.savefig('confusion_matrix_FAxNORMAL_preprocessed.png', format='png', dpi=300)\n",
    "\n",
    "    plt.show()\n"
   ]
  },
  {
   "cell_type": "code",
   "execution_count": 4,
   "id": "3fb387dd",
   "metadata": {},
   "outputs": [],
   "source": [
    "# VISUALIZANDO RESULTADOS\n",
    "\n",
    "def show_results(idx):\n",
    "    paciente = df_ecg_cinc2011[idx]['Paciente']\n",
    "    classe = df_ecg_cinc2011[idx]['Classe']\n",
    "    features = df_ecg_cinc2011[idx]['Features']\n",
    "    ecg = df_ecg_cinc2011[idx]['Sinais']\n",
    "    picos = df_ecg_cinc2011[idx]['Picos']\n",
    "\n",
    "    print(f'FILENAME: {paciente}')\n",
    "    print(f'CLASSE: {classe}')\n",
    "    print(f'FEATURES: {features}')\n",
    "\n",
    "    plot_detected_peaks(t, ecg, picos)"
   ]
  },
  {
   "cell_type": "code",
   "execution_count": 5,
   "id": "94251fbb",
   "metadata": {},
   "outputs": [],
   "source": [
    "# Diretório que contém os arquivos .hea e .dat\n",
    "diretorio = 'C:/Users/estela.ribeiro/JupyterNotebooks/ECGcodes/set-a/'"
   ]
  },
  {
   "cell_type": "code",
   "execution_count": 6,
   "id": "8a746acb",
   "metadata": {},
   "outputs": [
    {
     "name": "stderr",
     "output_type": "stream",
     "text": [
      "C:\\Users\\ESTELA~1.RIB\\AppData\\Local\\Temp/ipykernel_18496/2564668317.py:28: RuntimeWarning: invalid value encountered in double_scalars\n",
      "  return power_5_20Hz / power_0_fnHz\n"
     ]
    }
   ],
   "source": [
    "# Gerando o dataset\n",
    "\n",
    "# Lista para armazenar os sinais, nomes de arquivo e classes\n",
    "df_ecg_cinc2011 = []\n",
    "\n",
    "# Lê os nomes dos pacientes da classe 'positiva' a partir do arquivo .txt\n",
    "with open(diretorio + 'RECORDS-acceptable', 'r') as file_positivo:\n",
    "    boa_qualidade = [line.strip() for line in file_positivo]\n",
    "\n",
    "# Lê os nomes dos pacientes da classe 'negativa' a partir do arquivo .txt\n",
    "with open(diretorio + 'RECORDS-unacceptable', 'r') as file_negativo:\n",
    "    ma_qualidade = [line.strip() for line in file_negativo]\n",
    "\n",
    "# Itera sobre todos os arquivos no diretório\n",
    "for arquivo in os.listdir(diretorio):\n",
    "    if arquivo.endswith('.hea'):\n",
    "        # Extrai o nome do arquivo sem a extensão\n",
    "        nome_base = os.path.splitext(arquivo)[0]\n",
    "\n",
    "        # Carrega as informações do cabeçalho (.hea)\n",
    "        record = wfdb.rdheader(os.path.join(diretorio, nome_base))\n",
    "\n",
    "        # Carrega os dados do sinal (.dat)\n",
    "        signals, _ = wfdb.rdsamp(os.path.join(diretorio, nome_base))\n",
    "        \n",
    "        # Como vou usar apenas a DII, seleciono apenas essa derivação\n",
    "        ecg_signal = signals[:,1]\n",
    "\n",
    "        # Determina a classe do paciente\n",
    "        if nome_base in boa_qualidade:\n",
    "            classe = 1 # bom\n",
    "        elif nome_base in ma_qualidade:\n",
    "            classe = 0 # ruim\n",
    "        else:\n",
    "            classe = np.nan\n",
    "        \n",
    "        # Identifica os picos nos sinais de ECG\n",
    "        sampling_rate = record.fs\n",
    "        duration = 10 # segundos\n",
    "        t = np.arange(0, duration, 1/sampling_rate)\n",
    "        peaks, _ = find_peaks(ecg_signal, height = 0.2, distance = sampling_rate/2)\n",
    "        \n",
    "        # Gera os indices de qualidade\n",
    "        indices = get_quality_indexes(peaks, t, ecg_signal)\n",
    "        \n",
    "        #plot_detected_peaks(t, ecg_signal, peaks) # Deixar comentado essa linha para não gerar os plots\n",
    "\n",
    "        # Adiciona os sinais, informações adicionais e a classe à lista\n",
    "        df_ecg_cinc2011.append({'Paciente': nome_base, 'Sinais': ecg_signal, 'Frequencia de Amostragem': record.fs, \n",
    "                                'Classe': classe, 'Picos': peaks, 'Features': indices})"
   ]
  },
  {
   "cell_type": "code",
   "execution_count": 7,
   "id": "73851ca4",
   "metadata": {},
   "outputs": [
    {
     "name": "stdout",
     "output_type": "stream",
     "text": [
      "Quantidade de pacientes: 1000\n"
     ]
    },
    {
     "data": {
      "text/html": [
       "<div>\n",
       "<style scoped>\n",
       "    .dataframe tbody tr th:only-of-type {\n",
       "        vertical-align: middle;\n",
       "    }\n",
       "\n",
       "    .dataframe tbody tr th {\n",
       "        vertical-align: top;\n",
       "    }\n",
       "\n",
       "    .dataframe thead th {\n",
       "        text-align: right;\n",
       "    }\n",
       "</style>\n",
       "<table border=\"1\" class=\"dataframe\">\n",
       "  <thead>\n",
       "    <tr style=\"text-align: right;\">\n",
       "      <th></th>\n",
       "      <th>Features</th>\n",
       "      <th>Classe</th>\n",
       "    </tr>\n",
       "  </thead>\n",
       "  <tbody>\n",
       "    <tr>\n",
       "      <th>0</th>\n",
       "      <td>[0.0, 0.0, 0.0, -3.0, 100.0]</td>\n",
       "      <td>0.0</td>\n",
       "    </tr>\n",
       "    <tr>\n",
       "      <th>1</th>\n",
       "      <td>[0.2, 0.0, -0.46612093186253545, 19.3928051755...</td>\n",
       "      <td>1.0</td>\n",
       "    </tr>\n",
       "    <tr>\n",
       "      <th>2</th>\n",
       "      <td>[0.16, 0.0, -2.1746740930593185, 9.44945315641...</td>\n",
       "      <td>0.0</td>\n",
       "    </tr>\n",
       "    <tr>\n",
       "      <th>3</th>\n",
       "      <td>[0.3, 0.0, -0.6684783077838481, 2.535005784455...</td>\n",
       "      <td>0.0</td>\n",
       "    </tr>\n",
       "    <tr>\n",
       "      <th>4</th>\n",
       "      <td>[0.2, 0.0, 4.419841197862508, 25.0690525928515...</td>\n",
       "      <td>1.0</td>\n",
       "    </tr>\n",
       "  </tbody>\n",
       "</table>\n",
       "</div>"
      ],
      "text/plain": [
       "                                            Features  Classe\n",
       "0                       [0.0, 0.0, 0.0, -3.0, 100.0]     0.0\n",
       "1  [0.2, 0.0, -0.46612093186253545, 19.3928051755...     1.0\n",
       "2  [0.16, 0.0, -2.1746740930593185, 9.44945315641...     0.0\n",
       "3  [0.3, 0.0, -0.6684783077838481, 2.535005784455...     0.0\n",
       "4  [0.2, 0.0, 4.419841197862508, 25.0690525928515...     1.0"
      ]
     },
     "execution_count": 7,
     "metadata": {},
     "output_type": "execute_result"
    }
   ],
   "source": [
    "df_ecg_cinc2011 = pd.DataFrame(df_ecg_cinc2011)\n",
    "print('Quantidade de pacientes:', len(np.unique(df_ecg_cinc2011['Paciente'])))\n",
    "\n",
    "# Seleciona apenas as colunas relevantes (Features e Classe)\n",
    "df_ecg = df_ecg_cinc2011[['Features', 'Classe']]\n",
    "\n",
    "df_ecg.head()"
   ]
  },
  {
   "cell_type": "code",
   "execution_count": 8,
   "id": "4c016578",
   "metadata": {},
   "outputs": [
    {
     "data": {
      "text/html": [
       "<div>\n",
       "<style scoped>\n",
       "    .dataframe tbody tr th:only-of-type {\n",
       "        vertical-align: middle;\n",
       "    }\n",
       "\n",
       "    .dataframe tbody tr th {\n",
       "        vertical-align: top;\n",
       "    }\n",
       "\n",
       "    .dataframe thead th {\n",
       "        text-align: right;\n",
       "    }\n",
       "</style>\n",
       "<table border=\"1\" class=\"dataframe\">\n",
       "  <thead>\n",
       "    <tr style=\"text-align: right;\">\n",
       "      <th></th>\n",
       "      <th>iSQI</th>\n",
       "      <th>fSQI</th>\n",
       "      <th>sSQI</th>\n",
       "      <th>kSQI</th>\n",
       "      <th>pSQI</th>\n",
       "      <th>Classe</th>\n",
       "    </tr>\n",
       "  </thead>\n",
       "  <tbody>\n",
       "    <tr>\n",
       "      <th>0</th>\n",
       "      <td>0.00</td>\n",
       "      <td>0.0</td>\n",
       "      <td>0.000000</td>\n",
       "      <td>-3.000000</td>\n",
       "      <td>100.0</td>\n",
       "      <td>0.0</td>\n",
       "    </tr>\n",
       "    <tr>\n",
       "      <th>1</th>\n",
       "      <td>0.20</td>\n",
       "      <td>0.0</td>\n",
       "      <td>-0.466121</td>\n",
       "      <td>19.392805</td>\n",
       "      <td>100.0</td>\n",
       "      <td>1.0</td>\n",
       "    </tr>\n",
       "    <tr>\n",
       "      <th>2</th>\n",
       "      <td>0.16</td>\n",
       "      <td>0.0</td>\n",
       "      <td>-2.174674</td>\n",
       "      <td>9.449453</td>\n",
       "      <td>100.0</td>\n",
       "      <td>0.0</td>\n",
       "    </tr>\n",
       "    <tr>\n",
       "      <th>3</th>\n",
       "      <td>0.30</td>\n",
       "      <td>0.0</td>\n",
       "      <td>-0.668478</td>\n",
       "      <td>2.535006</td>\n",
       "      <td>100.0</td>\n",
       "      <td>0.0</td>\n",
       "    </tr>\n",
       "    <tr>\n",
       "      <th>4</th>\n",
       "      <td>0.20</td>\n",
       "      <td>0.0</td>\n",
       "      <td>4.419841</td>\n",
       "      <td>25.069053</td>\n",
       "      <td>100.0</td>\n",
       "      <td>1.0</td>\n",
       "    </tr>\n",
       "  </tbody>\n",
       "</table>\n",
       "</div>"
      ],
      "text/plain": [
       "   iSQI  fSQI      sSQI       kSQI   pSQI  Classe\n",
       "0  0.00   0.0  0.000000  -3.000000  100.0     0.0\n",
       "1  0.20   0.0 -0.466121  19.392805  100.0     1.0\n",
       "2  0.16   0.0 -2.174674   9.449453  100.0     0.0\n",
       "3  0.30   0.0 -0.668478   2.535006  100.0     0.0\n",
       "4  0.20   0.0  4.419841  25.069053  100.0     1.0"
      ]
     },
     "execution_count": 8,
     "metadata": {},
     "output_type": "execute_result"
    }
   ],
   "source": [
    "df = pd.DataFrame(df_ecg['Features'].tolist(), columns=['iSQI', 'fSQI', 'sSQI', 'kSQI', 'pSQI'])\n",
    "df['Classe'] = df_ecg['Classe']\n",
    "\n",
    "df.head()"
   ]
  },
  {
   "cell_type": "code",
   "execution_count": 9,
   "id": "ff9f2948",
   "metadata": {},
   "outputs": [
    {
     "name": "stdout",
     "output_type": "stream",
     "text": [
      "NaN? : iSQI       0\n",
      "fSQI      12\n",
      "sSQI       0\n",
      "kSQI       0\n",
      "pSQI       0\n",
      "Classe     2\n",
      "dtype: int64\n"
     ]
    }
   ],
   "source": [
    "print(f'NaN? : {pd.isna(df).sum()}')"
   ]
  },
  {
   "cell_type": "code",
   "execution_count": 10,
   "id": "243cf3dc",
   "metadata": {},
   "outputs": [],
   "source": [
    "df = df.dropna()"
   ]
  },
  {
   "cell_type": "code",
   "execution_count": 11,
   "id": "22105ef2",
   "metadata": {},
   "outputs": [
    {
     "name": "stdout",
     "output_type": "stream",
     "text": [
      "NaN? : iSQI      0\n",
      "fSQI      0\n",
      "sSQI      0\n",
      "kSQI      0\n",
      "pSQI      0\n",
      "Classe    0\n",
      "dtype: int64\n"
     ]
    }
   ],
   "source": [
    "print(f'NaN? : {pd.isna(df).sum()}')"
   ]
  },
  {
   "cell_type": "code",
   "execution_count": 12,
   "id": "e7e519fc",
   "metadata": {},
   "outputs": [],
   "source": [
    "# Separa as Features e a Classe\n",
    "X = df[['iSQI', 'fSQI', 'sSQI', 'kSQI', 'pSQI']]\n",
    "y = df['Classe']"
   ]
  },
  {
   "cell_type": "code",
   "execution_count": 13,
   "id": "7840d858",
   "metadata": {},
   "outputs": [],
   "source": [
    "# Configuração do k-fold\n",
    "n_splits = 5\n",
    "kfold = KFold(n_splits=n_splits, shuffle=True)\n",
    "\n",
    "# Inicializa o modelo Random Forest\n",
    "modelo_rf = RandomForestClassifier(random_state=42)"
   ]
  },
  {
   "cell_type": "code",
   "execution_count": 14,
   "id": "b58757a3",
   "metadata": {},
   "outputs": [],
   "source": [
    "# Lista para armazenar os resultados das predições\n",
    "resultados_predicoes = []\n",
    "\n",
    "# Loop sobre os k-folds\n",
    "for train_idx, test_idx in kfold.split(X):\n",
    "    X_train, X_test = X.iloc[train_idx], X.iloc[test_idx]\n",
    "    y_train, y_test = y.iloc[train_idx], y.iloc[test_idx]\n",
    "\n",
    "    # Treina o modelo\n",
    "    modelo_rf.fit(X_train, y_train)\n",
    "\n",
    "    # Faz predições no conjunto de teste\n",
    "    y_pred = modelo_rf.predict(X_test)\n",
    "\n",
    "    # Avalia o desempenho do modelo e armazena os resultados\n",
    "    results_fold = classification_metrics_binary(y_test, y_pred)\n",
    "    resultados_predicoes.append(results_fold)\n"
   ]
  },
  {
   "cell_type": "code",
   "execution_count": 15,
   "id": "e231151e",
   "metadata": {},
   "outputs": [
    {
     "name": "stdout",
     "output_type": "stream",
     "text": [
      "Fold 1:\n",
      " {'tn': 21, 'fp': 41, 'fn': 3, 'tp': 133, 'perc_tn': 10.606060606060606, 'perc_fp': 20.707070707070706, 'perc_fn': 1.5151515151515151, 'perc_tp': 67.17171717171718, 'sensitivity': 0.9779411764705882, 'tpr': 0.9779411764705882, 'recall': 0.9779411764705882, 'fpr': 0.6612903225806451, 'precision': 0.764367816091954, 'ppv': 0.764367816091954, 'specificity': 0.3387096774193548, 'tnr': 0.3387096774193548, 'f1_score': 0.8580645161290322, 'auc': 0.6583254269449715, 'kappa': 0.38001707941929974, 'accuracy': 0.7777777777777778}\n",
      "\n",
      "Fold 2:\n",
      " {'tn': 22, 'fp': 23, 'fn': 3, 'tp': 149, 'perc_tn': 11.16751269035533, 'perc_fp': 11.6751269035533, 'perc_fn': 1.5228426395939088, 'perc_tp': 75.63451776649747, 'sensitivity': 0.9802631578947368, 'tpr': 0.9802631578947368, 'recall': 0.9802631578947368, 'fpr': 0.5111111111111111, 'precision': 0.8662790697674418, 'ppv': 0.8662790697674418, 'specificity': 0.4888888888888889, 'tnr': 0.4888888888888889, 'f1_score': 0.9197530864197531, 'auc': 0.7345760233918128, 'kappa': 0.5561525129982668, 'accuracy': 0.868020304568528}\n",
      "\n",
      "Fold 3:\n",
      " {'tn': 17, 'fp': 18, 'fn': 6, 'tp': 156, 'perc_tn': 8.629441624365482, 'perc_fp': 9.137055837563452, 'perc_fn': 3.0456852791878175, 'perc_tp': 79.18781725888326, 'sensitivity': 0.9629629629629629, 'tpr': 0.9629629629629629, 'recall': 0.9629629629629629, 'fpr': 0.5142857142857142, 'precision': 0.896551724137931, 'ppv': 0.896551724137931, 'specificity': 0.4857142857142857, 'tnr': 0.4857142857142857, 'f1_score': 0.9285714285714286, 'auc': 0.7243386243386243, 'kappa': 0.5183374083129584, 'accuracy': 0.8781725888324873}\n",
      "\n",
      "Fold 4:\n",
      " {'tn': 25, 'fp': 15, 'fn': 9, 'tp': 148, 'perc_tn': 12.690355329949238, 'perc_fp': 7.614213197969544, 'perc_fn': 4.568527918781726, 'perc_tp': 75.1269035532995, 'sensitivity': 0.9426751592356688, 'tpr': 0.9426751592356688, 'recall': 0.9426751592356688, 'fpr': 0.375, 'precision': 0.9079754601226994, 'ppv': 0.9079754601226994, 'specificity': 0.625, 'tnr': 0.625, 'f1_score': 0.925, 'auc': 0.7838375796178344, 'kappa': 0.6012818350480689, 'accuracy': 0.8781725888324873}\n",
      "\n",
      "Fold 5:\n",
      " {'tn': 14, 'fp': 17, 'fn': 6, 'tp': 160, 'perc_tn': 7.1065989847715745, 'perc_fp': 8.629441624365482, 'perc_fn': 3.0456852791878175, 'perc_tp': 81.21827411167513, 'sensitivity': 0.963855421686747, 'tpr': 0.963855421686747, 'recall': 0.963855421686747, 'fpr': 0.5483870967741935, 'precision': 0.903954802259887, 'ppv': 0.903954802259887, 'specificity': 0.45161290322580644, 'tnr': 0.45161290322580644, 'f1_score': 0.9329446064139941, 'auc': 0.7077341624562767, 'kappa': 0.4855228795276485, 'accuracy': 0.883248730964467}\n",
      "\n"
     ]
    }
   ],
   "source": [
    "# Imprime os resultados\n",
    "for i, resultado in enumerate(resultados_predicoes):\n",
    "    print(f\"Fold {i+1}:\\n {resultados_predicoes[i]}\\n\")"
   ]
  },
  {
   "cell_type": "code",
   "execution_count": 16,
   "id": "ce26061d",
   "metadata": {},
   "outputs": [
    {
     "name": "stdout",
     "output_type": "stream",
     "text": [
      "sensitivity: Média = 0.9655, Desvio Padrão = 0.0134\n",
      "specificity: Média = 0.4780, Desvio Padrão = 0.0915\n",
      "f1_score: Média = 0.9129, Desvio Padrão = 0.0277\n",
      "auc: Média = 0.7218, Desvio Padrão = 0.0406\n",
      "accuracy: Média = 0.8571, Desvio Padrão = 0.0400\n"
     ]
    }
   ],
   "source": [
    "# Extraia os valores de cada métrica para calcular média e desvio padrão\n",
    "métricas = [\"sensitivity\", \"specificity\", \"f1_score\", 'auc', 'accuracy']\n",
    "resultados_array = np.array([[fold[m] for m in métricas] for fold in resultados_predicoes])\n",
    "\n",
    "# Calcule a média e o desvio padrão\n",
    "média_resultados = np.mean(resultados_array, axis=0)\n",
    "desvio_padrao_resultados = np.std(resultados_array, axis=0)\n",
    "\n",
    "# Crie um dicionário para armazenar a média e o desvio padrão de cada métrica\n",
    "média_desvio_resultados = {métrica: {\"média\": média, \"desvio_padrao\": desvio_padrao}\n",
    "                            for métrica, média, desvio_padrao in zip(métricas, média_resultados, desvio_padrao_resultados)}\n",
    "\n",
    "# Imprima os resultados\n",
    "for métrica, valores in média_desvio_resultados.items():\n",
    "    print(f\"{métrica}: Média = {valores['média']:.4f}, Desvio Padrão = {valores['desvio_padrao']:.4f}\")"
   ]
  },
  {
   "cell_type": "code",
   "execution_count": null,
   "id": "a2084816",
   "metadata": {},
   "outputs": [],
   "source": []
  }
 ],
 "metadata": {
  "kernelspec": {
   "display_name": "Python 3 (ipykernel)",
   "language": "python",
   "name": "python3"
  },
  "language_info": {
   "codemirror_mode": {
    "name": "ipython",
    "version": 3
   },
   "file_extension": ".py",
   "mimetype": "text/x-python",
   "name": "python",
   "nbconvert_exporter": "python",
   "pygments_lexer": "ipython3",
   "version": "3.9.7"
  }
 },
 "nbformat": 4,
 "nbformat_minor": 5
}
