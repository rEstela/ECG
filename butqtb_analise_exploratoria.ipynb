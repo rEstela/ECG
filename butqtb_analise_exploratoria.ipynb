{
 "cells": [
  {
   "cell_type": "code",
   "execution_count": 1,
   "id": "3ce27711",
   "metadata": {},
   "outputs": [],
   "source": [
    "import os\n",
    "import wfdb\n",
    "import pandas as pd"
   ]
  },
  {
   "cell_type": "code",
   "execution_count": 2,
   "id": "3a1a065e",
   "metadata": {},
   "outputs": [],
   "source": [
    "# Diretório que contém as pastas dos pacientes\n",
    "diretorio_pacientes = 'C:/Users/estel/Documents/Python_Codes/but-qdb/'"
   ]
  },
  {
   "cell_type": "code",
   "execution_count": null,
   "id": "9b3fc2b6",
   "metadata": {},
   "outputs": [],
   "source": [
    "# Lista para armazenar os sinais e informações dos pacientes\n",
    "dados_pacientes = []\n",
    "\n",
    "# Itera sobre as pastas de pacientes\n",
    "for paciente_folder in os.listdir(diretorio_pacientes):\n",
    "    paciente_path = os.path.join(diretorio_pacientes, paciente_folder)\n",
    "\n",
    "    # Verifica se é uma pasta\n",
    "    if os.path.isdir(paciente_path):\n",
    "        # Inicializa as variáveis para armazenar os caminhos dos arquivos\n",
    "        ecg_file = None\n",
    "\n",
    "        # Itera sobre os arquivos na pasta do paciente\n",
    "        for arquivo in os.listdir(paciente_path):\n",
    "            if arquivo.endswith('.hea'):\n",
    "                if 'ECG' in arquivo:\n",
    "                    ecg_file = os.path.join(paciente_path, os.path.splitext(os.path.basename(arquivo))[0])\n",
    "            elif arquivo.endswith('.dat'):\n",
    "                if 'ECG' in arquivo:\n",
    "                    ecg_dat_file = os.path.join(paciente_path, os.path.splitext(os.path.basename(arquivo))[0])\n",
    "\n",
    "        # Verifica se todos os arquivos necessários foram encontrados\n",
    "        if ecg_file:\n",
    "            # Extrai o nome_base do arquivo .hea\n",
    "            nome_base = os.path.splitext(os.path.basename(ecg_file))[0]\n",
    "\n",
    "            # Carrega as informações do cabeçalho (.hea) do ECG\n",
    "            record_ecg = wfdb.rdheader(ecg_file)\n",
    "\n",
    "            # Carrega os dados do sinal (.dat) do ECG\n",
    "            signals_ecg, _ = wfdb.rdsamp(ecg_dat_file)\n",
    "\n",
    "            # Adiciona os sinais, informações adicionais e a classe à lista\n",
    "            dados_pacientes.append({'Paciente': nome_base, 'Sinais_ECG': signals_ecg, 'Frequencia de Amostragem_ECG': record_ecg.fs})\n"
   ]
  },
  {
   "cell_type": "code",
   "execution_count": null,
   "id": "422de4f8",
   "metadata": {},
   "outputs": [],
   "source": [
    "dados_pacientes"
   ]
  },
  {
   "cell_type": "code",
   "execution_count": null,
   "id": "359446c1",
   "metadata": {},
   "outputs": [],
   "source": [
    "import matplotlib.pyplot as plt\n",
    "\n",
    "plt.plot(dados_pacientes[1]['Sinais_ECG'])"
   ]
  },
  {
   "cell_type": "code",
   "execution_count": null,
   "id": "276e4beb",
   "metadata": {},
   "outputs": [],
   "source": []
  }
 ],
 "metadata": {
  "kernelspec": {
   "display_name": "Python 3 (ipykernel)",
   "language": "python",
   "name": "python3"
  },
  "language_info": {
   "codemirror_mode": {
    "name": "ipython",
    "version": 3
   },
   "file_extension": ".py",
   "mimetype": "text/x-python",
   "name": "python",
   "nbconvert_exporter": "python",
   "pygments_lexer": "ipython3",
   "version": "3.9.7"
  }
 },
 "nbformat": 4,
 "nbformat_minor": 5
}
