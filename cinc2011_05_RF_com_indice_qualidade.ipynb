{
 "cells": [
  {
   "cell_type": "code",
   "execution_count": 1,
   "id": "edbe66f1",
   "metadata": {},
   "outputs": [],
   "source": [
    "# Importando bibliotecas\n",
    "\n",
    "import os\n",
    "import wfdb\n",
    "import numpy as np\n",
    "import pandas as pd\n",
    "from scipy.signal import find_peaks\n",
    "from scipy.stats import skew, kurtosis\n",
    "\n",
    "import matplotlib.pyplot as plt\n",
    "import seaborn as sns\n",
    "\n",
    "from sklearn.model_selection import train_test_split\n",
    "from sklearn.ensemble import RandomForestClassifier\n",
    "from sklearn.metrics import roc_curve, auc, confusion_matrix, cohen_kappa_score"
   ]
  },
  {
   "cell_type": "code",
   "execution_count": 2,
   "id": "23db33af",
   "metadata": {},
   "outputs": [],
   "source": [
    "# Definindo funções\n",
    "\n",
    "# --------------------------------------------\n",
    "## Plotar sinal de ECG com os picos detectados\n",
    "\n",
    "def plot_detected_peaks(t, ecg_signal, detected_peaks):\n",
    "    # Plotar os sinais original e filtrado com os picos QRS detectados\n",
    "    plt.figure(figsize=(12, 8))\n",
    "    plt.plot(t, ecg_signal, label='Sinal original', alpha=0.7)\n",
    "    plt.scatter(t[detected_peaks], ecg_signal[detected_peaks], color='red', marker='o', label='Picos QRS')\n",
    "    plt.title('Sinal de ECG com Picos R Detectados')\n",
    "    plt.vlines(t[detected_peaks], *plt.ylim(), label=\"Picos\", color=\".2\", alpha=0.3, ls=\"--\")\n",
    "    plt.xlabel('Tempo (s)')\n",
    "    plt.ylabel('Amplitude')\n",
    "    plt.legend()\n",
    "    plt.show()\n",
    "\n",
    "# --------------------------------------------\n",
    "## Indices de qualidade\n",
    "\n",
    "def compute_iSQI(detected_peaks, total_beats):\n",
    "    return len(detected_peaks) / total_beats * 100\n",
    "\n",
    "def compute_fSQI(ecg_signal, sampling_rate=1000):\n",
    "    fn = 0.5 * sampling_rate  # Frequência de Nyquist\n",
    "    power_5_20Hz = np.sum(np.square(ecg_signal[(5 <= fn) & (fn <= 20)]))\n",
    "    power_0_fnHz = np.sum(np.square(ecg_signal[fn <= 0.5 * sampling_rate]))\n",
    "    return power_5_20Hz / power_0_fnHz\n",
    "\n",
    "def compute_sSQI(ecg_signal):\n",
    "    return skew(ecg_signal)\n",
    "\n",
    "def compute_kSQI(ecg_signal):\n",
    "    return kurtosis(ecg_signal)\n",
    "\n",
    "def compute_pSQI(ecg_signal, epsilon=1.0):\n",
    "    dxm_dt = np.gradient(ecg_signal)\n",
    "    flat_line_percentage = np.sum(np.abs(dxm_dt) < epsilon) / len(ecg_signal) * 100\n",
    "    return flat_line_percentage\n",
    "\n",
    "def get_quality_indexes(peaks, t, ecg_signal):\n",
    "    # Calcular índices de qualidade\n",
    "    iSQI_value = compute_iSQI(peaks, len(t))\n",
    "    fSQI_value = compute_fSQI(ecg_signal)\n",
    "    sSQI_value = compute_sSQI(ecg_signal)\n",
    "    kSQI_value = compute_kSQI(ecg_signal)\n",
    "    pSQI_value = compute_pSQI(ecg_signal)\n",
    "    return [iSQI_value, fSQI_value, sSQI_value, kSQI_value, pSQI_value]"
   ]
  },
  {
   "cell_type": "code",
   "execution_count": 3,
   "id": "b556ccc1",
   "metadata": {},
   "outputs": [],
   "source": [
    "# Generate binary classification analysis\n",
    "def classification_metrics_binary(y_true, y_pred):\n",
    "    tn, fp, fn, tp = confusion_matrix(y_true, y_pred).ravel()\n",
    "    perc_tn, perc_fp, perc_fn, perc_tp = list(map(lambda x:x/len(y_true)*100, [tn, fp, fn, tp]))\n",
    "    sensitivity = tp/(tp+fn)\n",
    "    false_positive_rate = fp/(tn+fp)\n",
    "    precision = tp/(tp+fp)\n",
    "    specificity = tn/(tn+fp)\n",
    "    accuracy = (tp+tn)/(tp+fp+tn+fn)\n",
    "    f1_score = 2*precision*sensitivity/(sensitivity+precision)\n",
    "    fpr, tpr, thresholds = roc_curve(y_true, y_pred)\n",
    "    auc_value = auc(fpr, tpr)\n",
    "    kappa = cohen_kappa_score(y_true, y_pred)\n",
    "    return {\"tn\":tn, \"fp\":fp, \"fn\":fn, \"tp\":tp, \"perc_tn\":perc_tn, \"perc_fp\":perc_fp, \n",
    "            \"perc_fn\":perc_fn, \"perc_tp\":perc_tp, \"sensitivity\":sensitivity, \n",
    "            \"tpr\":sensitivity, \"recall\":sensitivity, \"fpr\":false_positive_rate, \n",
    "            \"precision\":precision, \"ppv\":precision, \"specificity\":specificity, \n",
    "            \"tnr\":specificity,\"f1_score\":f1_score, \"auc\":auc_value, \"kappa\":kappa, \n",
    "            \"accuracy\":accuracy}\n",
    "\n",
    "# Plot Confusion Matrix\n",
    "def plot_confusion(y_true, y_pred):\n",
    "    # Generate the confusion matrix\n",
    "    cm = confusion_matrix(y_true, y_pred)\n",
    "    class_name = ['Ruim', 'Bom']\n",
    "    cm = pd.DataFrame(cm, index=class_name, columns=class_name)\n",
    "\n",
    "    # Plot the confusion matrix\n",
    "    plt.figure(figsize=(8, 6))\n",
    "    sns.heatmap(cm, annot=True, fmt='g', cmap='Blues', cbar=False)\n",
    "    plt.title('Confusion Matrix')\n",
    "    plt.xlabel('Predicted Labels')\n",
    "    plt.ylabel('True Labels')\n",
    "\n",
    "    # Salva a figura como .eps\n",
    "    plt.savefig('confusion_matrix_FAxNORMAL_preprocessed.eps', format='eps')\n",
    "\n",
    "    # Salva a figura como .png com 300 DPI\n",
    "    plt.savefig('confusion_matrix_FAxNORMAL_preprocessed.png', format='png', dpi=300)\n",
    "\n",
    "    plt.show()\n"
   ]
  },
  {
   "cell_type": "code",
   "execution_count": 4,
   "id": "3fb387dd",
   "metadata": {},
   "outputs": [],
   "source": [
    "# VISUALIZANDO RESULTADOS\n",
    "\n",
    "def show_results(idx):\n",
    "    paciente = df_ecg_cinc2011[idx]['Paciente']\n",
    "    classe = df_ecg_cinc2011[idx]['Classe']\n",
    "    features = df_ecg_cinc2011[idx]['Features']\n",
    "    ecg = df_ecg_cinc2011[idx]['Sinais']\n",
    "    picos = df_ecg_cinc2011[idx]['Picos']\n",
    "\n",
    "    print(f'FILENAME: {paciente}')\n",
    "    print(f'CLASSE: {classe}')\n",
    "    print(f'FEATURES: {features}')\n",
    "\n",
    "    plot_detected_peaks(t, ecg, picos)"
   ]
  },
  {
   "cell_type": "code",
   "execution_count": 5,
   "id": "94251fbb",
   "metadata": {},
   "outputs": [],
   "source": [
    "# Diretório que contém os arquivos .hea e .dat\n",
    "diretorio = 'C:/Users/estela.ribeiro/JupyterNotebooks/ECGcodes/set-a/'"
   ]
  },
  {
   "cell_type": "code",
   "execution_count": 6,
   "id": "8a746acb",
   "metadata": {},
   "outputs": [
    {
     "name": "stderr",
     "output_type": "stream",
     "text": [
      "C:\\Users\\ESTELA~1.RIB\\AppData\\Local\\Temp/ipykernel_11844/2564668317.py:28: RuntimeWarning: invalid value encountered in double_scalars\n",
      "  return power_5_20Hz / power_0_fnHz\n"
     ]
    }
   ],
   "source": [
    "# Gerando o dataset\n",
    "\n",
    "# Lista para armazenar os sinais, nomes de arquivo e classes\n",
    "df_ecg_cinc2011 = []\n",
    "\n",
    "# Lê os nomes dos pacientes da classe 'positiva' a partir do arquivo .txt\n",
    "with open(diretorio + 'RECORDS-acceptable', 'r') as file_positivo:\n",
    "    boa_qualidade = [line.strip() for line in file_positivo]\n",
    "\n",
    "# Lê os nomes dos pacientes da classe 'negativa' a partir do arquivo .txt\n",
    "with open(diretorio + 'RECORDS-unacceptable', 'r') as file_negativo:\n",
    "    ma_qualidade = [line.strip() for line in file_negativo]\n",
    "\n",
    "# Itera sobre todos os arquivos no diretório\n",
    "for arquivo in os.listdir(diretorio):\n",
    "    if arquivo.endswith('.hea'):\n",
    "        # Extrai o nome do arquivo sem a extensão\n",
    "        nome_base = os.path.splitext(arquivo)[0]\n",
    "\n",
    "        # Carrega as informações do cabeçalho (.hea)\n",
    "        record = wfdb.rdheader(os.path.join(diretorio, nome_base))\n",
    "\n",
    "        # Carrega os dados do sinal (.dat)\n",
    "        signals, _ = wfdb.rdsamp(os.path.join(diretorio, nome_base))\n",
    "        \n",
    "        # Como vou usar apenas a DII, seleciono apenas essa derivação\n",
    "        ecg_signal = signals[:,1]\n",
    "\n",
    "        # Determina a classe do paciente\n",
    "        if nome_base in boa_qualidade:\n",
    "            classe = 1 # bom\n",
    "        elif nome_base in ma_qualidade:\n",
    "            classe = 0 # ruim\n",
    "        else:\n",
    "            classe = np.nan\n",
    "        \n",
    "        # Identifica os picos nos sinais de ECG\n",
    "        sampling_rate = record.fs\n",
    "        duration = 10 # segundos\n",
    "        t = np.arange(0, duration, 1/sampling_rate)\n",
    "        peaks, _ = find_peaks(ecg_signal, height = 0.2, distance = sampling_rate/2)\n",
    "        \n",
    "        # Gera os indices de qualidade\n",
    "        indices = get_quality_indexes(peaks, t, ecg_signal)\n",
    "        \n",
    "        #plot_detected_peaks(t, ecg_signal, peaks) # Deixar comentado essa linha para não gerar os plots\n",
    "\n",
    "        # Adiciona os sinais, informações adicionais e a classe à lista\n",
    "        df_ecg_cinc2011.append({'Paciente': nome_base, 'Sinais': ecg_signal, 'Frequencia de Amostragem': record.fs, \n",
    "                                'Classe': classe, 'Picos': peaks, 'Features': indices})"
   ]
  },
  {
   "cell_type": "code",
   "execution_count": 7,
   "id": "73851ca4",
   "metadata": {},
   "outputs": [
    {
     "data": {
      "text/html": [
       "<div>\n",
       "<style scoped>\n",
       "    .dataframe tbody tr th:only-of-type {\n",
       "        vertical-align: middle;\n",
       "    }\n",
       "\n",
       "    .dataframe tbody tr th {\n",
       "        vertical-align: top;\n",
       "    }\n",
       "\n",
       "    .dataframe thead th {\n",
       "        text-align: right;\n",
       "    }\n",
       "</style>\n",
       "<table border=\"1\" class=\"dataframe\">\n",
       "  <thead>\n",
       "    <tr style=\"text-align: right;\">\n",
       "      <th></th>\n",
       "      <th>Features</th>\n",
       "      <th>Classe</th>\n",
       "    </tr>\n",
       "  </thead>\n",
       "  <tbody>\n",
       "    <tr>\n",
       "      <th>0</th>\n",
       "      <td>[0.0, 0.0, 0.0, -3.0, 100.0]</td>\n",
       "      <td>0.0</td>\n",
       "    </tr>\n",
       "    <tr>\n",
       "      <th>1</th>\n",
       "      <td>[0.2, 0.0, -0.46612093186253545, 19.3928051755...</td>\n",
       "      <td>1.0</td>\n",
       "    </tr>\n",
       "    <tr>\n",
       "      <th>2</th>\n",
       "      <td>[0.16, 0.0, -2.1746740930593185, 9.44945315641...</td>\n",
       "      <td>0.0</td>\n",
       "    </tr>\n",
       "    <tr>\n",
       "      <th>3</th>\n",
       "      <td>[0.3, 0.0, -0.6684783077838481, 2.535005784455...</td>\n",
       "      <td>0.0</td>\n",
       "    </tr>\n",
       "    <tr>\n",
       "      <th>4</th>\n",
       "      <td>[0.2, 0.0, 4.419841197862508, 25.0690525928515...</td>\n",
       "      <td>1.0</td>\n",
       "    </tr>\n",
       "  </tbody>\n",
       "</table>\n",
       "</div>"
      ],
      "text/plain": [
       "                                            Features  Classe\n",
       "0                       [0.0, 0.0, 0.0, -3.0, 100.0]     0.0\n",
       "1  [0.2, 0.0, -0.46612093186253545, 19.3928051755...     1.0\n",
       "2  [0.16, 0.0, -2.1746740930593185, 9.44945315641...     0.0\n",
       "3  [0.3, 0.0, -0.6684783077838481, 2.535005784455...     0.0\n",
       "4  [0.2, 0.0, 4.419841197862508, 25.0690525928515...     1.0"
      ]
     },
     "execution_count": 7,
     "metadata": {},
     "output_type": "execute_result"
    }
   ],
   "source": [
    "df_ecg_cinc2011 = pd.DataFrame(df_ecg_cinc2011)\n",
    "\n",
    "# Seleciona apenas as colunas relevantes (Features e Classe)\n",
    "df_ecg = df_ecg_cinc2011[['Features', 'Classe']]\n",
    "\n",
    "df_ecg.head()"
   ]
  },
  {
   "cell_type": "code",
   "execution_count": 8,
   "id": "4c016578",
   "metadata": {},
   "outputs": [
    {
     "data": {
      "text/html": [
       "<div>\n",
       "<style scoped>\n",
       "    .dataframe tbody tr th:only-of-type {\n",
       "        vertical-align: middle;\n",
       "    }\n",
       "\n",
       "    .dataframe tbody tr th {\n",
       "        vertical-align: top;\n",
       "    }\n",
       "\n",
       "    .dataframe thead th {\n",
       "        text-align: right;\n",
       "    }\n",
       "</style>\n",
       "<table border=\"1\" class=\"dataframe\">\n",
       "  <thead>\n",
       "    <tr style=\"text-align: right;\">\n",
       "      <th></th>\n",
       "      <th>iSQI</th>\n",
       "      <th>fSQI</th>\n",
       "      <th>sSQI</th>\n",
       "      <th>kSQI</th>\n",
       "      <th>pSQI</th>\n",
       "      <th>Classe</th>\n",
       "    </tr>\n",
       "  </thead>\n",
       "  <tbody>\n",
       "    <tr>\n",
       "      <th>0</th>\n",
       "      <td>0.00</td>\n",
       "      <td>0.0</td>\n",
       "      <td>0.000000</td>\n",
       "      <td>-3.000000</td>\n",
       "      <td>100.0</td>\n",
       "      <td>0.0</td>\n",
       "    </tr>\n",
       "    <tr>\n",
       "      <th>1</th>\n",
       "      <td>0.20</td>\n",
       "      <td>0.0</td>\n",
       "      <td>-0.466121</td>\n",
       "      <td>19.392805</td>\n",
       "      <td>100.0</td>\n",
       "      <td>1.0</td>\n",
       "    </tr>\n",
       "    <tr>\n",
       "      <th>2</th>\n",
       "      <td>0.16</td>\n",
       "      <td>0.0</td>\n",
       "      <td>-2.174674</td>\n",
       "      <td>9.449453</td>\n",
       "      <td>100.0</td>\n",
       "      <td>0.0</td>\n",
       "    </tr>\n",
       "    <tr>\n",
       "      <th>3</th>\n",
       "      <td>0.30</td>\n",
       "      <td>0.0</td>\n",
       "      <td>-0.668478</td>\n",
       "      <td>2.535006</td>\n",
       "      <td>100.0</td>\n",
       "      <td>0.0</td>\n",
       "    </tr>\n",
       "    <tr>\n",
       "      <th>4</th>\n",
       "      <td>0.20</td>\n",
       "      <td>0.0</td>\n",
       "      <td>4.419841</td>\n",
       "      <td>25.069053</td>\n",
       "      <td>100.0</td>\n",
       "      <td>1.0</td>\n",
       "    </tr>\n",
       "  </tbody>\n",
       "</table>\n",
       "</div>"
      ],
      "text/plain": [
       "   iSQI  fSQI      sSQI       kSQI   pSQI  Classe\n",
       "0  0.00   0.0  0.000000  -3.000000  100.0     0.0\n",
       "1  0.20   0.0 -0.466121  19.392805  100.0     1.0\n",
       "2  0.16   0.0 -2.174674   9.449453  100.0     0.0\n",
       "3  0.30   0.0 -0.668478   2.535006  100.0     0.0\n",
       "4  0.20   0.0  4.419841  25.069053  100.0     1.0"
      ]
     },
     "execution_count": 8,
     "metadata": {},
     "output_type": "execute_result"
    }
   ],
   "source": [
    "df = pd.DataFrame(df_ecg['Features'].tolist(), columns=['iSQI', 'fSQI', 'sSQI', 'kSQI', 'pSQI'])\n",
    "df['Classe'] = df_ecg['Classe']\n",
    "\n",
    "df.head()"
   ]
  },
  {
   "cell_type": "code",
   "execution_count": 9,
   "id": "ff9f2948",
   "metadata": {},
   "outputs": [
    {
     "name": "stdout",
     "output_type": "stream",
     "text": [
      "NaN? : iSQI       0\n",
      "fSQI      12\n",
      "sSQI       0\n",
      "kSQI       0\n",
      "pSQI       0\n",
      "Classe     2\n",
      "dtype: int64\n"
     ]
    }
   ],
   "source": [
    "print(f'NaN? : {pd.isna(df).sum()}')"
   ]
  },
  {
   "cell_type": "code",
   "execution_count": 10,
   "id": "243cf3dc",
   "metadata": {},
   "outputs": [],
   "source": [
    "df = df.dropna()"
   ]
  },
  {
   "cell_type": "code",
   "execution_count": 11,
   "id": "22105ef2",
   "metadata": {},
   "outputs": [
    {
     "name": "stdout",
     "output_type": "stream",
     "text": [
      "NaN? : iSQI      0\n",
      "fSQI      0\n",
      "sSQI      0\n",
      "kSQI      0\n",
      "pSQI      0\n",
      "Classe    0\n",
      "dtype: int64\n"
     ]
    }
   ],
   "source": [
    "print(f'NaN? : {pd.isna(df).sum()}')"
   ]
  },
  {
   "cell_type": "code",
   "execution_count": 12,
   "id": "e7e519fc",
   "metadata": {},
   "outputs": [],
   "source": [
    "# Separa as Features e a Classe\n",
    "X = df[['iSQI', 'fSQI', 'sSQI', 'kSQI', 'pSQI']]\n",
    "y = df['Classe']"
   ]
  },
  {
   "cell_type": "code",
   "execution_count": 13,
   "id": "7840d858",
   "metadata": {},
   "outputs": [],
   "source": [
    "# Divide o conjunto de dados em treino e teste\n",
    "X_train, X_test, y_train, y_test = train_test_split(X, y, test_size=0.2, random_state=42)\n",
    "\n",
    "# Inicializa o modelo Random Forest\n",
    "modelo_rf = RandomForestClassifier(random_state=42)\n",
    "\n",
    "# Treina o modelo\n",
    "modelo_rf.fit(X_train, y_train)\n",
    "\n",
    "# Faz predições no conjunto de teste\n",
    "y_pred = modelo_rf.predict(X_test)"
   ]
  },
  {
   "cell_type": "code",
   "execution_count": 14,
   "id": "e231151e",
   "metadata": {},
   "outputs": [
    {
     "data": {
      "image/png": "[encoded data removed]",
      "text/plain": [
       "<Figure size 576x432 with 1 Axes>"
      ]
     },
     "metadata": {
      "needs_background": "light"
     },
     "output_type": "display_data"
    },
    {
     "name": "stdout",
     "output_type": "stream",
     "text": [
      "{'tn': 17, 'fp': 23, 'fn': 4, 'tp': 154, 'perc_tn': 8.585858585858585, 'perc_fp': 11.616161616161616, 'perc_fn': 2.0202020202020203, 'perc_tp': 77.77777777777779, 'sensitivity': 0.9746835443037974, 'tpr': 0.9746835443037974, 'recall': 0.9746835443037974, 'fpr': 0.575, 'precision': 0.8700564971751412, 'ppv': 0.8700564971751412, 'specificity': 0.425, 'tnr': 0.425, 'f1_score': 0.9194029850746267, 'auc': 0.6998417721518988, 'kappa': 0.485862665897288, 'accuracy': 0.8636363636363636}\n"
     ]
    }
   ],
   "source": [
    "y_true = y_test\n",
    "\n",
    "# Results\n",
    "plot_confusion(y_true, y_pred)\n",
    "results = classification_metrics_binary(y_true, y_pred)\n",
    "print(results)\n"
   ]
  },
  {
   "cell_type": "code",
   "execution_count": 15,
   "id": "3ab8760b",
   "metadata": {},
   "outputs": [
    {
     "data": {
      "text/plain": [
       "{'tn': 17,\n",
       " 'fp': 23,\n",
       " 'fn': 4,\n",
       " 'tp': 154,\n",
       " 'perc_tn': 8.585858585858585,\n",
       " 'perc_fp': 11.616161616161616,\n",
       " 'perc_fn': 2.0202020202020203,\n",
       " 'perc_tp': 77.77777777777779,\n",
       " 'sensitivity': 0.9746835443037974,\n",
       " 'tpr': 0.9746835443037974,\n",
       " 'recall': 0.9746835443037974,\n",
       " 'fpr': 0.575,\n",
       " 'precision': 0.8700564971751412,\n",
       " 'ppv': 0.8700564971751412,\n",
       " 'specificity': 0.425,\n",
       " 'tnr': 0.425,\n",
       " 'f1_score': 0.9194029850746267,\n",
       " 'auc': 0.6998417721518988,\n",
       " 'kappa': 0.485862665897288,\n",
       " 'accuracy': 0.8636363636363636}"
      ]
     },
     "execution_count": 15,
     "metadata": {},
     "output_type": "execute_result"
    }
   ],
   "source": [
    "results"
   ]
  },
  {
   "cell_type": "code",
   "execution_count": 27,
   "id": "e3f23eca",
   "metadata": {},
   "outputs": [
    {
     "name": "stdout",
     "output_type": "stream",
     "text": [
      "Feature: kSQI, Score: 0.432942\n",
      "Feature: sSQI, Score: 0.291665\n",
      "Feature: iSQI, Score: 0.184362\n",
      "Feature: pSQI, Score: 0.091031\n",
      "Feature: fSQI, Score: 0.000000\n"
     ]
    }
   ],
   "source": [
    "# Feature importance\n",
    "importance = modelo_rf.feature_importances_\n",
    "sorted_indices = np.argsort(importance)[::-1]\n",
    "sorted_importance = importance[sorted_indices]\n",
    "sorted_features = X.columns[sorted_indices]\n",
    "\n",
    "# Print list of features and importance\n",
    "for i, v in enumerate(sorted_importance):\n",
    "    print('Feature: %s, Score: %f' % (sorted_features[i], v))"
   ]
  },
  {
   "cell_type": "code",
   "execution_count": 26,
   "id": "5e8f38aa",
   "metadata": {},
   "outputs": [
    {
     "data": {
      "image/png": "[encoded data removed]",
      "text/plain": [
       "<Figure size 720x432 with 1 Axes>"
      ]
     },
     "metadata": {
      "needs_background": "light"
     },
     "output_type": "display_data"
    }
   ],
   "source": [
    "# Define colors for positive and negative values\n",
    "colors = ['red' if imp < 0 else 'blue' for imp in sorted_importance]\n",
    "\n",
    "# Plot the feature importance with colored bars\n",
    "plt.figure(figsize=(10, 6))\n",
    "plt.bar(range(len(sorted_importance)), sorted_importance, color=colors, tick_label=sorted_features)\n",
    "plt.xticks(rotation=90)\n",
    "plt.xlabel('Features')\n",
    "plt.ylabel('Importance')\n",
    "plt.title('Feature Importance')\n",
    "plt.tight_layout()\n",
    "plt.show()"
   ]
  },
  {
   "cell_type": "code",
   "execution_count": 20,
   "id": "0306a5e3",
   "metadata": {},
   "outputs": [
    {
     "data": {
      "text/plain": [
       "Index(['kSQI', 'sSQI', 'iSQI', 'pSQI', 'fSQI'], dtype='object')"
      ]
     },
     "execution_count": 20,
     "metadata": {},
     "output_type": "execute_result"
    }
   ],
   "source": [
    "sorted_features"
   ]
  },
  {
   "cell_type": "code",
   "execution_count": 24,
   "id": "a275b6dc",
   "metadata": {},
   "outputs": [
    {
     "data": {
      "text/plain": [
       "array([0.43294237, 0.29166534, 0.18436166, 0.09103063, 0.        ])"
      ]
     },
     "execution_count": 24,
     "metadata": {},
     "output_type": "execute_result"
    }
   ],
   "source": [
    "sorted_importance"
   ]
  },
  {
   "cell_type": "code",
   "execution_count": 22,
   "id": "d8e3131d",
   "metadata": {},
   "outputs": [
    {
     "data": {
      "text/plain": [
       "array([3, 2, 0, 4, 1], dtype=int64)"
      ]
     },
     "execution_count": 22,
     "metadata": {},
     "output_type": "execute_result"
    }
   ],
   "source": [
    "sorted_indices"
   ]
  },
  {
   "cell_type": "code",
   "execution_count": 23,
   "id": "1f214b3b",
   "metadata": {},
   "outputs": [
    {
     "data": {
      "text/plain": [
       "array([0.18436166, 0.        , 0.29166534, 0.43294237, 0.09103063])"
      ]
     },
     "execution_count": 23,
     "metadata": {},
     "output_type": "execute_result"
    }
   ],
   "source": [
    "importance"
   ]
  },
  {
   "cell_type": "code",
   "execution_count": 21,
   "id": "c320ffba",
   "metadata": {},
   "outputs": [
    {
     "data": {
      "text/plain": [
       "Index(['iSQI', 'fSQI', 'sSQI', 'kSQI', 'pSQI'], dtype='object')"
      ]
     },
     "execution_count": 21,
     "metadata": {},
     "output_type": "execute_result"
    }
   ],
   "source": [
    "X.columns"
   ]
  },
  {
   "cell_type": "code",
   "execution_count": 25,
   "id": "ce755047",
   "metadata": {},
   "outputs": [
    {
     "data": {
      "text/plain": [
       "Index(['kSQI', 'sSQI', 'iSQI', 'pSQI', 'fSQI'], dtype='object')"
      ]
     },
     "execution_count": 25,
     "metadata": {},
     "output_type": "execute_result"
    }
   ],
   "source": [
    "X.columns[sorted_indices]"
   ]
  },
  {
   "cell_type": "code",
   "execution_count": null,
   "id": "febc36d9",
   "metadata": {},
   "outputs": [],
   "source": []
  }
 ],
 "metadata": {
  "kernelspec": {
   "display_name": "Python 3 (ipykernel)",
   "language": "python",
   "name": "python3"
  },
  "language_info": {
   "codemirror_mode": {
    "name": "ipython",
    "version": 3
   },
   "file_extension": ".py",
   "mimetype": "text/x-python",
   "name": "python",
   "nbconvert_exporter": "python",
   "pygments_lexer": "ipython3",
   "version": "3.9.7"
  }
 },
 "nbformat": 4,
 "nbformat_minor": 5
}
